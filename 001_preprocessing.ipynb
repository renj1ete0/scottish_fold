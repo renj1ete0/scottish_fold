{
 "cells": [
  {
   "cell_type": "markdown",
   "metadata": {},
   "source": []
  },
  {
   "cell_type": "code",
   "execution_count": 16,
   "metadata": {},
   "outputs": [],
   "source": [
    "import pandas as pd\n",
    "import geopandas as gpd\n",
    "import json\n",
    "from shapely.geometry import Point\n",
    "from keplergl import KeplerGl\n",
    "import plotly.express as px"
   ]
  },
  {
   "cell_type": "code",
   "execution_count": 2,
   "metadata": {},
   "outputs": [],
   "source": [
    "# Load OD Data\n",
    "raw_od_bus = pd.read_csv('od_data/origin_destination_bus_202507.csv')\n",
    "raw_od_train = pd.read_csv('od_data/origin_destination_train_202507.csv')\n",
    "combined_od = pd.concat([raw_od_bus, raw_od_train], ignore_index=True)"
   ]
  },
  {
   "cell_type": "code",
   "execution_count": 3,
   "metadata": {},
   "outputs": [
    {
     "data": {
      "text/html": [
       "<div>\n",
       "<style scoped>\n",
       "    .dataframe tbody tr th:only-of-type {\n",
       "        vertical-align: middle;\n",
       "    }\n",
       "\n",
       "    .dataframe tbody tr th {\n",
       "        vertical-align: top;\n",
       "    }\n",
       "\n",
       "    .dataframe thead th {\n",
       "        text-align: right;\n",
       "    }\n",
       "</style>\n",
       "<table border=\"1\" class=\"dataframe\">\n",
       "  <thead>\n",
       "    <tr style=\"text-align: right;\">\n",
       "      <th></th>\n",
       "      <th>YEAR_MONTH</th>\n",
       "      <th>DAY_TYPE</th>\n",
       "      <th>TIME_PER_HOUR</th>\n",
       "      <th>PT_TYPE</th>\n",
       "      <th>ORIGIN_PT_CODE</th>\n",
       "      <th>DESTINATION_PT_CODE</th>\n",
       "      <th>TOTAL_TRIPS</th>\n",
       "    </tr>\n",
       "  </thead>\n",
       "  <tbody>\n",
       "    <tr>\n",
       "      <th>0</th>\n",
       "      <td>2025-07</td>\n",
       "      <td>WEEKDAY</td>\n",
       "      <td>6</td>\n",
       "      <td>BUS</td>\n",
       "      <td>71081</td>\n",
       "      <td>1139</td>\n",
       "      <td>3</td>\n",
       "    </tr>\n",
       "    <tr>\n",
       "      <th>1</th>\n",
       "      <td>2025-07</td>\n",
       "      <td>WEEKENDS/HOLIDAY</td>\n",
       "      <td>16</td>\n",
       "      <td>BUS</td>\n",
       "      <td>52231</td>\n",
       "      <td>62131</td>\n",
       "      <td>18</td>\n",
       "    </tr>\n",
       "    <tr>\n",
       "      <th>2</th>\n",
       "      <td>2025-07</td>\n",
       "      <td>WEEKENDS/HOLIDAY</td>\n",
       "      <td>8</td>\n",
       "      <td>BUS</td>\n",
       "      <td>9212</td>\n",
       "      <td>50229</td>\n",
       "      <td>24</td>\n",
       "    </tr>\n",
       "    <tr>\n",
       "      <th>3</th>\n",
       "      <td>2025-07</td>\n",
       "      <td>WEEKENDS/HOLIDAY</td>\n",
       "      <td>18</td>\n",
       "      <td>BUS</td>\n",
       "      <td>9059</td>\n",
       "      <td>42061</td>\n",
       "      <td>2</td>\n",
       "    </tr>\n",
       "    <tr>\n",
       "      <th>4</th>\n",
       "      <td>2025-07</td>\n",
       "      <td>WEEKENDS/HOLIDAY</td>\n",
       "      <td>15</td>\n",
       "      <td>BUS</td>\n",
       "      <td>84619</td>\n",
       "      <td>7211</td>\n",
       "      <td>1</td>\n",
       "    </tr>\n",
       "    <tr>\n",
       "      <th>...</th>\n",
       "      <td>...</td>\n",
       "      <td>...</td>\n",
       "      <td>...</td>\n",
       "      <td>...</td>\n",
       "      <td>...</td>\n",
       "      <td>...</td>\n",
       "      <td>...</td>\n",
       "    </tr>\n",
       "    <tr>\n",
       "      <th>6601961</th>\n",
       "      <td>2025-07</td>\n",
       "      <td>WEEKENDS/HOLIDAY</td>\n",
       "      <td>8</td>\n",
       "      <td>TRAIN</td>\n",
       "      <td>DT31</td>\n",
       "      <td>DT24</td>\n",
       "      <td>43</td>\n",
       "    </tr>\n",
       "    <tr>\n",
       "      <th>6601962</th>\n",
       "      <td>2025-07</td>\n",
       "      <td>WEEKENDS/HOLIDAY</td>\n",
       "      <td>15</td>\n",
       "      <td>TRAIN</td>\n",
       "      <td>DT27</td>\n",
       "      <td>EW25</td>\n",
       "      <td>4</td>\n",
       "    </tr>\n",
       "    <tr>\n",
       "      <th>6601963</th>\n",
       "      <td>2025-07</td>\n",
       "      <td>WEEKENDS/HOLIDAY</td>\n",
       "      <td>5</td>\n",
       "      <td>TRAIN</td>\n",
       "      <td>NE5</td>\n",
       "      <td>EW2/DT32</td>\n",
       "      <td>1</td>\n",
       "    </tr>\n",
       "    <tr>\n",
       "      <th>6601964</th>\n",
       "      <td>2025-07</td>\n",
       "      <td>WEEKDAY</td>\n",
       "      <td>20</td>\n",
       "      <td>TRAIN</td>\n",
       "      <td>BP3</td>\n",
       "      <td>NS11</td>\n",
       "      <td>16</td>\n",
       "    </tr>\n",
       "    <tr>\n",
       "      <th>6601965</th>\n",
       "      <td>2025-07</td>\n",
       "      <td>WEEKDAY</td>\n",
       "      <td>8</td>\n",
       "      <td>TRAIN</td>\n",
       "      <td>NE8</td>\n",
       "      <td>EW12/DT14</td>\n",
       "      <td>687</td>\n",
       "    </tr>\n",
       "  </tbody>\n",
       "</table>\n",
       "<p>6601966 rows × 7 columns</p>\n",
       "</div>"
      ],
      "text/plain": [
       "        YEAR_MONTH          DAY_TYPE  TIME_PER_HOUR PT_TYPE ORIGIN_PT_CODE  \\\n",
       "0          2025-07           WEEKDAY              6     BUS          71081   \n",
       "1          2025-07  WEEKENDS/HOLIDAY             16     BUS          52231   \n",
       "2          2025-07  WEEKENDS/HOLIDAY              8     BUS           9212   \n",
       "3          2025-07  WEEKENDS/HOLIDAY             18     BUS           9059   \n",
       "4          2025-07  WEEKENDS/HOLIDAY             15     BUS          84619   \n",
       "...            ...               ...            ...     ...            ...   \n",
       "6601961    2025-07  WEEKENDS/HOLIDAY              8   TRAIN           DT31   \n",
       "6601962    2025-07  WEEKENDS/HOLIDAY             15   TRAIN           DT27   \n",
       "6601963    2025-07  WEEKENDS/HOLIDAY              5   TRAIN            NE5   \n",
       "6601964    2025-07           WEEKDAY             20   TRAIN            BP3   \n",
       "6601965    2025-07           WEEKDAY              8   TRAIN            NE8   \n",
       "\n",
       "        DESTINATION_PT_CODE  TOTAL_TRIPS  \n",
       "0                      1139            3  \n",
       "1                     62131           18  \n",
       "2                     50229           24  \n",
       "3                     42061            2  \n",
       "4                      7211            1  \n",
       "...                     ...          ...  \n",
       "6601961                DT24           43  \n",
       "6601962                EW25            4  \n",
       "6601963            EW2/DT32            1  \n",
       "6601964                NS11           16  \n",
       "6601965           EW12/DT14          687  \n",
       "\n",
       "[6601966 rows x 7 columns]"
      ]
     },
     "execution_count": 3,
     "metadata": {},
     "output_type": "execute_result"
    }
   ],
   "source": [
    "combined_od"
   ]
  },
  {
   "cell_type": "code",
   "execution_count": 4,
   "metadata": {},
   "outputs": [],
   "source": [
    "# Extract lat lon from common/non_geo/busstop_current.json\n",
    "\n",
    "# Read json file \n",
    "bus_stops = json.load(open('common/non_geo/busstop_current.json'))\n",
    "# Convert list of dicts to DataFrame\n",
    "bus_stops_df = pd.DataFrame(bus_stops)\n",
    "\n",
    "\n",
    "\n",
    "invalid_bus_stops = [\n",
    "    [\"2051\", \"Raffles Ave\", \"The Float @ Marina Bay\", 1.289500, 103.859030],\n",
    "    [\"59008\", \"Yishun Ave 2\", \"Yishun Int 2\", 1.427877, 103.836181]\n",
    "]\n",
    "\n",
    "# Convert list of lists to DataFrame\n",
    "invalid_bus_stops_df = pd.DataFrame(invalid_bus_stops, columns=bus_stops_df.columns)\n",
    "\n",
    "# Combine with existing DataFrame\n",
    "bus_stops_df = pd.concat([bus_stops_df, invalid_bus_stops_df], ignore_index=True)\n",
    "\n",
    "# # Create GeoDataFrame with Point geometry from lon/lat\n",
    "# bus_stops_gdf = gpd.GeoDataFrame(\n",
    "#     bus_stops_df,\n",
    "#     geometry=[Point(xy) for xy in zip(bus_stops_df.Longitude, bus_stops_df.Latitude)],\n",
    "#     crs=\"EPSG:4326\"  # WGS84 (latitude/longitude)\n",
    "# )\n",
    "\n",
    "# print(gdf.head())\n",
    "# print(gdf.crs)\n",
    "\n",
    "bus_stops_df[\"BusStopCode\"] = pd.to_numeric(bus_stops_df[\"BusStopCode\"], errors=\"coerce\")\n",
    "\n",
    "# Merge on bus stop code\n",
    "combined_od = combined_od.merge(\n",
    "    bus_stops_df[['BusStopCode', 'Description', 'Latitude', 'Longitude']], \n",
    "    left_on='ORIGIN_PT_CODE', right_on='BusStopCode', how='left'\n",
    ")\n",
    "\n",
    "combined_od = combined_od.merge(\n",
    "    bus_stops_df[['BusStopCode', 'Description', 'Latitude', 'Longitude']], \n",
    "    left_on='DESTINATION_PT_CODE', right_on='BusStopCode', how='left'\n",
    ")\n",
    "\n"
   ]
  },
  {
   "cell_type": "code",
   "execution_count": 5,
   "metadata": {},
   "outputs": [
    {
     "data": {
      "text/html": [
       "<div>\n",
       "<style scoped>\n",
       "    .dataframe tbody tr th:only-of-type {\n",
       "        vertical-align: middle;\n",
       "    }\n",
       "\n",
       "    .dataframe tbody tr th {\n",
       "        vertical-align: top;\n",
       "    }\n",
       "\n",
       "    .dataframe thead th {\n",
       "        text-align: right;\n",
       "    }\n",
       "</style>\n",
       "<table border=\"1\" class=\"dataframe\">\n",
       "  <thead>\n",
       "    <tr style=\"text-align: right;\">\n",
       "      <th></th>\n",
       "      <th>BusStopCode</th>\n",
       "      <th>RoadName</th>\n",
       "      <th>Description</th>\n",
       "      <th>Latitude</th>\n",
       "      <th>Longitude</th>\n",
       "    </tr>\n",
       "  </thead>\n",
       "  <tbody>\n",
       "    <tr>\n",
       "      <th>0</th>\n",
       "      <td>1012</td>\n",
       "      <td>Victoria St</td>\n",
       "      <td>Hotel Grand Pacific</td>\n",
       "      <td>1.296848</td>\n",
       "      <td>103.852536</td>\n",
       "    </tr>\n",
       "    <tr>\n",
       "      <th>1</th>\n",
       "      <td>1013</td>\n",
       "      <td>Victoria St</td>\n",
       "      <td>St. Joseph's Ch</td>\n",
       "      <td>1.297710</td>\n",
       "      <td>103.853225</td>\n",
       "    </tr>\n",
       "    <tr>\n",
       "      <th>2</th>\n",
       "      <td>1019</td>\n",
       "      <td>Victoria St</td>\n",
       "      <td>Bras Basah Cplx</td>\n",
       "      <td>1.296990</td>\n",
       "      <td>103.853022</td>\n",
       "    </tr>\n",
       "    <tr>\n",
       "      <th>3</th>\n",
       "      <td>1029</td>\n",
       "      <td>Nth Bridge Rd</td>\n",
       "      <td>Opp Natl Lib</td>\n",
       "      <td>1.296673</td>\n",
       "      <td>103.854414</td>\n",
       "    </tr>\n",
       "    <tr>\n",
       "      <th>4</th>\n",
       "      <td>1039</td>\n",
       "      <td>Nth Bridge Rd</td>\n",
       "      <td>Bugis Cube</td>\n",
       "      <td>1.298208</td>\n",
       "      <td>103.855491</td>\n",
       "    </tr>\n",
       "    <tr>\n",
       "      <th>...</th>\n",
       "      <td>...</td>\n",
       "      <td>...</td>\n",
       "      <td>...</td>\n",
       "      <td>...</td>\n",
       "      <td>...</td>\n",
       "    </tr>\n",
       "    <tr>\n",
       "      <th>5159</th>\n",
       "      <td>99171</td>\n",
       "      <td>Nicoll Dr</td>\n",
       "      <td>Changi Beach CP 2</td>\n",
       "      <td>1.391128</td>\n",
       "      <td>103.991021</td>\n",
       "    </tr>\n",
       "    <tr>\n",
       "      <th>5160</th>\n",
       "      <td>99181</td>\n",
       "      <td>Telok Paku Rd</td>\n",
       "      <td>Bef S'pore Aviation Ac</td>\n",
       "      <td>1.387754</td>\n",
       "      <td>103.988503</td>\n",
       "    </tr>\n",
       "    <tr>\n",
       "      <th>5161</th>\n",
       "      <td>99189</td>\n",
       "      <td>Telok Paku Rd</td>\n",
       "      <td>S'pore Aviation Ac</td>\n",
       "      <td>1.388414</td>\n",
       "      <td>103.989716</td>\n",
       "    </tr>\n",
       "    <tr>\n",
       "      <th>5162</th>\n",
       "      <td>2051</td>\n",
       "      <td>Raffles Ave</td>\n",
       "      <td>The Float @ Marina Bay</td>\n",
       "      <td>1.289500</td>\n",
       "      <td>103.859030</td>\n",
       "    </tr>\n",
       "    <tr>\n",
       "      <th>5163</th>\n",
       "      <td>59008</td>\n",
       "      <td>Yishun Ave 2</td>\n",
       "      <td>Yishun Int 2</td>\n",
       "      <td>1.427877</td>\n",
       "      <td>103.836181</td>\n",
       "    </tr>\n",
       "  </tbody>\n",
       "</table>\n",
       "<p>5164 rows × 5 columns</p>\n",
       "</div>"
      ],
      "text/plain": [
       "      BusStopCode       RoadName             Description  Latitude   Longitude\n",
       "0            1012    Victoria St     Hotel Grand Pacific  1.296848  103.852536\n",
       "1            1013    Victoria St         St. Joseph's Ch  1.297710  103.853225\n",
       "2            1019    Victoria St         Bras Basah Cplx  1.296990  103.853022\n",
       "3            1029  Nth Bridge Rd            Opp Natl Lib  1.296673  103.854414\n",
       "4            1039  Nth Bridge Rd              Bugis Cube  1.298208  103.855491\n",
       "...           ...            ...                     ...       ...         ...\n",
       "5159        99171      Nicoll Dr       Changi Beach CP 2  1.391128  103.991021\n",
       "5160        99181  Telok Paku Rd  Bef S'pore Aviation Ac  1.387754  103.988503\n",
       "5161        99189  Telok Paku Rd      S'pore Aviation Ac  1.388414  103.989716\n",
       "5162         2051    Raffles Ave  The Float @ Marina Bay  1.289500  103.859030\n",
       "5163        59008   Yishun Ave 2            Yishun Int 2  1.427877  103.836181\n",
       "\n",
       "[5164 rows x 5 columns]"
      ]
     },
     "execution_count": 5,
     "metadata": {},
     "output_type": "execute_result"
    }
   ],
   "source": [
    "bus_stops_df"
   ]
  },
  {
   "cell_type": "code",
   "execution_count": 6,
   "metadata": {},
   "outputs": [
    {
     "name": "stderr",
     "output_type": "stream",
     "text": [
      "C:\\Users\\renji\\AppData\\Local\\Temp\\ipykernel_27008\\3318732272.py:26: SettingWithCopyWarning: \n",
      "A value is trying to be set on a copy of a slice from a DataFrame.\n",
      "Try using .loc[row_indexer,col_indexer] = value instead\n",
      "\n",
      "See the caveats in the documentation: https://pandas.pydata.org/pandas-docs/stable/user_guide/indexing.html#returning-a-view-versus-a-copy\n",
      "  filtered_df[\"Timestamp\"] = (pd.to_datetime(\"1990-01-01\") +\n"
     ]
    }
   ],
   "source": [
    "combined_od\n",
    "# bus_stops_df\n",
    "\n",
    "TIME_PER_HOUR = 8\n",
    "DAY_TYPE = \"WEEKDAY\"\n",
    "ORIGIN_PT_CODE = [40389, 40391, 40399, 40401, 40409, 40411, 40419, 40421]\n",
    "DESTINATION_PT_CODE = [\"\"]\n",
    "\n",
    "\n",
    "# Existing filters\n",
    "# mask = (combined_od[\"TIME_PER_HOUR\"] == TIME_PER_HOUR) & (combined_od[\"DAY_TYPE\"] == DAY_TYPE)\n",
    "mask = (combined_od[\"DAY_TYPE\"] == DAY_TYPE)\n",
    "\n",
    "# Conditional filter for ORIGIN_PT_CODE\n",
    "if ORIGIN_PT_CODE:\n",
    "    mask &= combined_od[\"ORIGIN_PT_CODE\"].isin(ORIGIN_PT_CODE)\n",
    "\n",
    "# Conditional filter for DESTINATION_PT_CODE\n",
    "if DESTINATION_PT_CODE and DESTINATION_PT_CODE != [\"\"]:  # ignore empty string list\n",
    "    mask &= combined_od[\"DESTINATION_PT_CODE\"].isin(DESTINATION_PT_CODE)\n",
    "\n",
    "# Apply combined mask\n",
    "filtered_df = combined_od[mask]\n",
    "\n",
    "# Convert DAY + TIME_PER_HOUR into a proper timestamp\n",
    "filtered_df[\"Timestamp\"] = (pd.to_datetime(\"1990-01-01\") + \n",
    "                      pd.to_timedelta(filtered_df[\"TIME_PER_HOUR\"], unit='h')).dt.strftime('%Y-%m-%dT%H:%M:%S')"
   ]
  },
  {
   "cell_type": "code",
   "execution_count": 7,
   "metadata": {},
   "outputs": [
    {
     "data": {
      "text/html": [
       "<div>\n",
       "<style scoped>\n",
       "    .dataframe tbody tr th:only-of-type {\n",
       "        vertical-align: middle;\n",
       "    }\n",
       "\n",
       "    .dataframe tbody tr th {\n",
       "        vertical-align: top;\n",
       "    }\n",
       "\n",
       "    .dataframe thead th {\n",
       "        text-align: right;\n",
       "    }\n",
       "</style>\n",
       "<table border=\"1\" class=\"dataframe\">\n",
       "  <thead>\n",
       "    <tr style=\"text-align: right;\">\n",
       "      <th></th>\n",
       "      <th>YEAR_MONTH</th>\n",
       "      <th>DAY_TYPE</th>\n",
       "      <th>TIME_PER_HOUR</th>\n",
       "      <th>PT_TYPE</th>\n",
       "      <th>ORIGIN_PT_CODE</th>\n",
       "      <th>DESTINATION_PT_CODE</th>\n",
       "      <th>TOTAL_TRIPS</th>\n",
       "      <th>BusStopCode_x</th>\n",
       "      <th>Description_x</th>\n",
       "      <th>Latitude_x</th>\n",
       "      <th>Longitude_x</th>\n",
       "      <th>BusStopCode_y</th>\n",
       "      <th>Description_y</th>\n",
       "      <th>Latitude_y</th>\n",
       "      <th>Longitude_y</th>\n",
       "      <th>Timestamp</th>\n",
       "    </tr>\n",
       "  </thead>\n",
       "  <tbody>\n",
       "    <tr>\n",
       "      <th>2367</th>\n",
       "      <td>2025-07</td>\n",
       "      <td>WEEKDAY</td>\n",
       "      <td>10</td>\n",
       "      <td>BUS</td>\n",
       "      <td>40401</td>\n",
       "      <td>43189</td>\n",
       "      <td>10</td>\n",
       "      <td>40401.0</td>\n",
       "      <td>Blk 224A</td>\n",
       "      <td>1.357260</td>\n",
       "      <td>103.731210</td>\n",
       "      <td>43189.0</td>\n",
       "      <td>Blk 283</td>\n",
       "      <td>1.346993</td>\n",
       "      <td>103.756815</td>\n",
       "      <td>1990-01-01T10:00:00</td>\n",
       "    </tr>\n",
       "    <tr>\n",
       "      <th>15695</th>\n",
       "      <td>2025-07</td>\n",
       "      <td>WEEKDAY</td>\n",
       "      <td>6</td>\n",
       "      <td>BUS</td>\n",
       "      <td>40411</td>\n",
       "      <td>40311</td>\n",
       "      <td>32</td>\n",
       "      <td>40411.0</td>\n",
       "      <td>Blk 221B</td>\n",
       "      <td>1.357550</td>\n",
       "      <td>103.729300</td>\n",
       "      <td>40311.0</td>\n",
       "      <td>Blk 439C</td>\n",
       "      <td>1.357305</td>\n",
       "      <td>103.738908</td>\n",
       "      <td>1990-01-01T06:00:00</td>\n",
       "    </tr>\n",
       "    <tr>\n",
       "      <th>17158</th>\n",
       "      <td>2025-07</td>\n",
       "      <td>WEEKDAY</td>\n",
       "      <td>19</td>\n",
       "      <td>BUS</td>\n",
       "      <td>40411</td>\n",
       "      <td>43751</td>\n",
       "      <td>344</td>\n",
       "      <td>40411.0</td>\n",
       "      <td>Blk 221B</td>\n",
       "      <td>1.357550</td>\n",
       "      <td>103.729300</td>\n",
       "      <td>43751.0</td>\n",
       "      <td>Opp Blk 443D</td>\n",
       "      <td>1.356298</td>\n",
       "      <td>103.736664</td>\n",
       "      <td>1990-01-01T19:00:00</td>\n",
       "    </tr>\n",
       "    <tr>\n",
       "      <th>26954</th>\n",
       "      <td>2025-07</td>\n",
       "      <td>WEEKDAY</td>\n",
       "      <td>5</td>\n",
       "      <td>BUS</td>\n",
       "      <td>40401</td>\n",
       "      <td>43009</td>\n",
       "      <td>476</td>\n",
       "      <td>40401.0</td>\n",
       "      <td>Blk 224A</td>\n",
       "      <td>1.357260</td>\n",
       "      <td>103.731210</td>\n",
       "      <td>43009.0</td>\n",
       "      <td>Bt Batok Int</td>\n",
       "      <td>1.349994</td>\n",
       "      <td>103.751062</td>\n",
       "      <td>1990-01-01T05:00:00</td>\n",
       "    </tr>\n",
       "    <tr>\n",
       "      <th>34267</th>\n",
       "      <td>2025-07</td>\n",
       "      <td>WEEKDAY</td>\n",
       "      <td>6</td>\n",
       "      <td>BUS</td>\n",
       "      <td>40401</td>\n",
       "      <td>43601</td>\n",
       "      <td>135</td>\n",
       "      <td>40401.0</td>\n",
       "      <td>Blk 224A</td>\n",
       "      <td>1.357260</td>\n",
       "      <td>103.731210</td>\n",
       "      <td>43601.0</td>\n",
       "      <td>Opp Blk 532</td>\n",
       "      <td>1.356643</td>\n",
       "      <td>103.749505</td>\n",
       "      <td>1990-01-01T06:00:00</td>\n",
       "    </tr>\n",
       "    <tr>\n",
       "      <th>...</th>\n",
       "      <td>...</td>\n",
       "      <td>...</td>\n",
       "      <td>...</td>\n",
       "      <td>...</td>\n",
       "      <td>...</td>\n",
       "      <td>...</td>\n",
       "      <td>...</td>\n",
       "      <td>...</td>\n",
       "      <td>...</td>\n",
       "      <td>...</td>\n",
       "      <td>...</td>\n",
       "      <td>...</td>\n",
       "      <td>...</td>\n",
       "      <td>...</td>\n",
       "      <td>...</td>\n",
       "      <td>...</td>\n",
       "    </tr>\n",
       "    <tr>\n",
       "      <th>5713377</th>\n",
       "      <td>2025-07</td>\n",
       "      <td>WEEKDAY</td>\n",
       "      <td>11</td>\n",
       "      <td>BUS</td>\n",
       "      <td>40421</td>\n",
       "      <td>42079</td>\n",
       "      <td>4</td>\n",
       "      <td>40421.0</td>\n",
       "      <td>Blk 220A</td>\n",
       "      <td>1.359380</td>\n",
       "      <td>103.729694</td>\n",
       "      <td>42079.0</td>\n",
       "      <td>Opp Pei Hwa Presby Pr Sch</td>\n",
       "      <td>1.339255</td>\n",
       "      <td>103.776989</td>\n",
       "      <td>1990-01-01T11:00:00</td>\n",
       "    </tr>\n",
       "    <tr>\n",
       "      <th>5714662</th>\n",
       "      <td>2025-07</td>\n",
       "      <td>WEEKDAY</td>\n",
       "      <td>14</td>\n",
       "      <td>BUS</td>\n",
       "      <td>40401</td>\n",
       "      <td>43189</td>\n",
       "      <td>2</td>\n",
       "      <td>40401.0</td>\n",
       "      <td>Blk 224A</td>\n",
       "      <td>1.357260</td>\n",
       "      <td>103.731210</td>\n",
       "      <td>43189.0</td>\n",
       "      <td>Blk 283</td>\n",
       "      <td>1.346993</td>\n",
       "      <td>103.756815</td>\n",
       "      <td>1990-01-01T14:00:00</td>\n",
       "    </tr>\n",
       "    <tr>\n",
       "      <th>5717112</th>\n",
       "      <td>2025-07</td>\n",
       "      <td>WEEKDAY</td>\n",
       "      <td>19</td>\n",
       "      <td>BUS</td>\n",
       "      <td>40409</td>\n",
       "      <td>40429</td>\n",
       "      <td>2</td>\n",
       "      <td>40409.0</td>\n",
       "      <td>Blk 132B</td>\n",
       "      <td>1.357394</td>\n",
       "      <td>103.731808</td>\n",
       "      <td>40429.0</td>\n",
       "      <td>Blk 242</td>\n",
       "      <td>1.359400</td>\n",
       "      <td>103.729300</td>\n",
       "      <td>1990-01-01T19:00:00</td>\n",
       "    </tr>\n",
       "    <tr>\n",
       "      <th>5717450</th>\n",
       "      <td>2025-07</td>\n",
       "      <td>WEEKDAY</td>\n",
       "      <td>17</td>\n",
       "      <td>BUS</td>\n",
       "      <td>40389</td>\n",
       "      <td>42161</td>\n",
       "      <td>1</td>\n",
       "      <td>40389.0</td>\n",
       "      <td>Tengah CC</td>\n",
       "      <td>1.356473</td>\n",
       "      <td>103.734424</td>\n",
       "      <td>42161.0</td>\n",
       "      <td>Blk 18</td>\n",
       "      <td>1.340277</td>\n",
       "      <td>103.772646</td>\n",
       "      <td>1990-01-01T17:00:00</td>\n",
       "    </tr>\n",
       "    <tr>\n",
       "      <th>5718385</th>\n",
       "      <td>2025-07</td>\n",
       "      <td>WEEKDAY</td>\n",
       "      <td>8</td>\n",
       "      <td>BUS</td>\n",
       "      <td>40389</td>\n",
       "      <td>43601</td>\n",
       "      <td>92</td>\n",
       "      <td>40389.0</td>\n",
       "      <td>Tengah CC</td>\n",
       "      <td>1.356473</td>\n",
       "      <td>103.734424</td>\n",
       "      <td>43601.0</td>\n",
       "      <td>Opp Blk 532</td>\n",
       "      <td>1.356643</td>\n",
       "      <td>103.749505</td>\n",
       "      <td>1990-01-01T08:00:00</td>\n",
       "    </tr>\n",
       "  </tbody>\n",
       "</table>\n",
       "<p>2109 rows × 16 columns</p>\n",
       "</div>"
      ],
      "text/plain": [
       "        YEAR_MONTH DAY_TYPE  TIME_PER_HOUR PT_TYPE ORIGIN_PT_CODE  \\\n",
       "2367       2025-07  WEEKDAY             10     BUS          40401   \n",
       "15695      2025-07  WEEKDAY              6     BUS          40411   \n",
       "17158      2025-07  WEEKDAY             19     BUS          40411   \n",
       "26954      2025-07  WEEKDAY              5     BUS          40401   \n",
       "34267      2025-07  WEEKDAY              6     BUS          40401   \n",
       "...            ...      ...            ...     ...            ...   \n",
       "5713377    2025-07  WEEKDAY             11     BUS          40421   \n",
       "5714662    2025-07  WEEKDAY             14     BUS          40401   \n",
       "5717112    2025-07  WEEKDAY             19     BUS          40409   \n",
       "5717450    2025-07  WEEKDAY             17     BUS          40389   \n",
       "5718385    2025-07  WEEKDAY              8     BUS          40389   \n",
       "\n",
       "        DESTINATION_PT_CODE  TOTAL_TRIPS  BusStopCode_x Description_x  \\\n",
       "2367                  43189           10        40401.0      Blk 224A   \n",
       "15695                 40311           32        40411.0      Blk 221B   \n",
       "17158                 43751          344        40411.0      Blk 221B   \n",
       "26954                 43009          476        40401.0      Blk 224A   \n",
       "34267                 43601          135        40401.0      Blk 224A   \n",
       "...                     ...          ...            ...           ...   \n",
       "5713377               42079            4        40421.0      Blk 220A   \n",
       "5714662               43189            2        40401.0      Blk 224A   \n",
       "5717112               40429            2        40409.0      Blk 132B   \n",
       "5717450               42161            1        40389.0     Tengah CC   \n",
       "5718385               43601           92        40389.0     Tengah CC   \n",
       "\n",
       "         Latitude_x  Longitude_x  BusStopCode_y              Description_y  \\\n",
       "2367       1.357260   103.731210        43189.0                    Blk 283   \n",
       "15695      1.357550   103.729300        40311.0                   Blk 439C   \n",
       "17158      1.357550   103.729300        43751.0               Opp Blk 443D   \n",
       "26954      1.357260   103.731210        43009.0               Bt Batok Int   \n",
       "34267      1.357260   103.731210        43601.0                Opp Blk 532   \n",
       "...             ...          ...            ...                        ...   \n",
       "5713377    1.359380   103.729694        42079.0  Opp Pei Hwa Presby Pr Sch   \n",
       "5714662    1.357260   103.731210        43189.0                    Blk 283   \n",
       "5717112    1.357394   103.731808        40429.0                    Blk 242   \n",
       "5717450    1.356473   103.734424        42161.0                     Blk 18   \n",
       "5718385    1.356473   103.734424        43601.0                Opp Blk 532   \n",
       "\n",
       "         Latitude_y  Longitude_y            Timestamp  \n",
       "2367       1.346993   103.756815  1990-01-01T10:00:00  \n",
       "15695      1.357305   103.738908  1990-01-01T06:00:00  \n",
       "17158      1.356298   103.736664  1990-01-01T19:00:00  \n",
       "26954      1.349994   103.751062  1990-01-01T05:00:00  \n",
       "34267      1.356643   103.749505  1990-01-01T06:00:00  \n",
       "...             ...          ...                  ...  \n",
       "5713377    1.339255   103.776989  1990-01-01T11:00:00  \n",
       "5714662    1.346993   103.756815  1990-01-01T14:00:00  \n",
       "5717112    1.359400   103.729300  1990-01-01T19:00:00  \n",
       "5717450    1.340277   103.772646  1990-01-01T17:00:00  \n",
       "5718385    1.356643   103.749505  1990-01-01T08:00:00  \n",
       "\n",
       "[2109 rows x 16 columns]"
      ]
     },
     "execution_count": 7,
     "metadata": {},
     "output_type": "execute_result"
    }
   ],
   "source": [
    "filtered_df"
   ]
  },
  {
   "cell_type": "code",
   "execution_count": 8,
   "metadata": {},
   "outputs": [
    {
     "name": "stderr",
     "output_type": "stream",
     "text": [
      "C:\\Users\\renji\\AppData\\Local\\Temp\\ipykernel_27008\\2102711312.py:5: SettingWithCopyWarning: \n",
      "A value is trying to be set on a copy of a slice from a DataFrame.\n",
      "Try using .loc[row_indexer,col_indexer] = value instead\n",
      "\n",
      "See the caveats in the documentation: https://pandas.pydata.org/pandas-docs/stable/user_guide/indexing.html#returning-a-view-versus-a-copy\n",
      "  filtered_df[\"geometry\"] = filtered_df.apply(\n"
     ]
    }
   ],
   "source": [
    "from shapely.geometry import LineString\n",
    "import geopandas as gpd\n",
    "\n",
    "# Create LineString geometry from origin to destination\n",
    "filtered_df[\"geometry\"] = filtered_df.apply(\n",
    "    lambda row: LineString([(row.Latitude_x, row.Longitude_x), (row.Latitude_y, row.Longitude_y)]),\n",
    "    axis=1\n",
    ")\n",
    "\n",
    "gdf_od = gpd.GeoDataFrame(filtered_df, geometry=\"geometry\", crs=\"EPSG:4326\")"
   ]
  },
  {
   "cell_type": "code",
   "execution_count": 9,
   "metadata": {},
   "outputs": [],
   "source": [
    "config = {\n",
    "    \"version\": \"v1\",\n",
    "    \"config\": {\n",
    "        \"visState\": {\n",
    "            \"filters\": [\n",
    "                {\n",
    "                    \"id\": \"timestamp_filter\",\n",
    "                    \"dataId\": [\"OD_Trips\"],\n",
    "                    \"name\": [\"Timestamp\"],   # column in your df\n",
    "                    \"type\": \"timeRange\",\n",
    "                    \"enabled\": True,\n",
    "                    \"value\": [\n",
    "                        \"1990-01-01T08:00:00\",   # start time (can be earliest in your data)\n",
    "                        \"1990-01-01T09:00:00\"    # end time (1h later)\n",
    "                    ],                    \n",
    "                    \"enlarged\": True,\n",
    "                    \"plotType\": \"histogram\",\n",
    "                    \"animationWindow\": \"incremental\",\n",
    "                    \"speed\": 1\n",
    "                }\n",
    "            ],\n",
    "            \"layers\": [\n",
    "                {\n",
    "                    \"id\": \"od_layer\",\n",
    "                    \"type\": \"arc\",\n",
    "                    \"config\": {\n",
    "                        \"dataId\": \"OD_Trips\",\n",
    "                        \"label\": \"OD Arcs\",\n",
    "                        \"color\": [255, 0, 0],\n",
    "                        \"columns\": {\n",
    "                            \"lat0\": \"Latitude_x\",\n",
    "                            \"lng0\": \"Longitude_x\",\n",
    "                            \"lat1\": \"Latitude_y\",\n",
    "                            \"lng1\": \"Longitude_y\"\n",
    "                        },\n",
    "                        \"isVisible\": True,\n",
    "                        \"visConfig\": {\n",
    "                            \"opacity\": 0.8,\n",
    "                            \"thickness\": 2,\n",
    "                            \"colorRange\": {\n",
    "                                \"name\": \"Global Warming\",\n",
    "                                \"type\": \"sequential\",\n",
    "                                \"category\": \"Uber\",\n",
    "                                \"colors\": [\n",
    "                                    \"#5A1846\",\n",
    "                                    \"#900C3F\",\n",
    "                                    \"#C70039\",\n",
    "                                    \"#E3611C\",\n",
    "                                    \"#F1920E\",\n",
    "                                    \"#FFC300\"\n",
    "                                ]\n",
    "                            }\n",
    "                        }\n",
    "                    }\n",
    "                }\n",
    "            ],\n",
    "            \"interactionConfig\": {},\n",
    "            \"layerBlending\": \"normal\",\n",
    "            \"splitMaps\": []\n",
    "        },\n",
    "        \"mapState\": {\n",
    "            \"bearing\": 0,\n",
    "            \"dragRotate\": False,\n",
    "            \"latitude\": 1.3728880599008766,\n",
    "            \"longitude\": 103.80202140824348,\n",
    "            \"pitch\": 0,\n",
    "            \"zoom\": 14,\n",
    "            \"isSplit\": False\n",
    "        },\n",
    "        # \"mapStyle\": {\n",
    "        #     \"styleType\": \"dark\",\n",
    "        #     \"topLayerGroups\": {},\n",
    "        #     \"visibleLayerGroups\": {}\n",
    "        # }\n",
    "    }\n",
    "}\n"
   ]
  },
  {
   "cell_type": "code",
   "execution_count": 10,
   "metadata": {},
   "outputs": [
    {
     "name": "stdout",
     "output_type": "stream",
     "text": [
      "User Guide: https://docs.kepler.gl/docs/keplergl-jupyter\n"
     ]
    }
   ],
   "source": [
    "map_1 = KeplerGl(config=config)\n",
    "\n",
    "df_clean = gdf_od.dropna(subset=[\"BusStopCode_x\"])\n",
    "\n",
    "# Add dataframe as a dataset\n",
    "map_1.add_data(data=df_clean, name=\"OD_Trips\")\n",
    "\n"
   ]
  },
  {
   "cell_type": "code",
   "execution_count": 11,
   "metadata": {},
   "outputs": [
    {
     "data": {
      "text/plain": [
       "array([], dtype=object)"
      ]
     },
     "execution_count": 11,
     "metadata": {},
     "output_type": "execute_result"
    }
   ],
   "source": [
    "df_clean.loc[df_clean[\"BusStopCode_y\"].isna(), \"DESTINATION_PT_CODE\"].unique()"
   ]
  },
  {
   "cell_type": "code",
   "execution_count": 12,
   "metadata": {},
   "outputs": [
    {
     "data": {
      "text/html": [
       "<div>\n",
       "<style scoped>\n",
       "    .dataframe tbody tr th:only-of-type {\n",
       "        vertical-align: middle;\n",
       "    }\n",
       "\n",
       "    .dataframe tbody tr th {\n",
       "        vertical-align: top;\n",
       "    }\n",
       "\n",
       "    .dataframe thead th {\n",
       "        text-align: right;\n",
       "    }\n",
       "</style>\n",
       "<table border=\"1\" class=\"dataframe\">\n",
       "  <thead>\n",
       "    <tr style=\"text-align: right;\">\n",
       "      <th></th>\n",
       "      <th>YEAR_MONTH</th>\n",
       "      <th>DAY_TYPE</th>\n",
       "      <th>TIME_PER_HOUR</th>\n",
       "      <th>PT_TYPE</th>\n",
       "      <th>ORIGIN_PT_CODE</th>\n",
       "      <th>DESTINATION_PT_CODE</th>\n",
       "      <th>TOTAL_TRIPS</th>\n",
       "      <th>BusStopCode_x</th>\n",
       "      <th>Description_x</th>\n",
       "      <th>Latitude_x</th>\n",
       "      <th>Longitude_x</th>\n",
       "      <th>BusStopCode_y</th>\n",
       "      <th>Description_y</th>\n",
       "      <th>Latitude_y</th>\n",
       "      <th>Longitude_y</th>\n",
       "      <th>Timestamp</th>\n",
       "      <th>geometry</th>\n",
       "    </tr>\n",
       "  </thead>\n",
       "  <tbody>\n",
       "  </tbody>\n",
       "</table>\n",
       "</div>"
      ],
      "text/plain": [
       "Empty GeoDataFrame\n",
       "Columns: [YEAR_MONTH, DAY_TYPE, TIME_PER_HOUR, PT_TYPE, ORIGIN_PT_CODE, DESTINATION_PT_CODE, TOTAL_TRIPS, BusStopCode_x, Description_x, Latitude_x, Longitude_x, BusStopCode_y, Description_y, Latitude_y, Longitude_y, Timestamp, geometry]\n",
       "Index: []"
      ]
     },
     "execution_count": 12,
     "metadata": {},
     "output_type": "execute_result"
    }
   ],
   "source": [
    "df_clean[df_clean[\"BusStopCode_y\"].isna()]"
   ]
  },
  {
   "cell_type": "code",
   "execution_count": 13,
   "metadata": {},
   "outputs": [
    {
     "data": {
      "text/html": [
       "<div>\n",
       "<style scoped>\n",
       "    .dataframe tbody tr th:only-of-type {\n",
       "        vertical-align: middle;\n",
       "    }\n",
       "\n",
       "    .dataframe tbody tr th {\n",
       "        vertical-align: top;\n",
       "    }\n",
       "\n",
       "    .dataframe thead th {\n",
       "        text-align: right;\n",
       "    }\n",
       "</style>\n",
       "<table border=\"1\" class=\"dataframe\">\n",
       "  <thead>\n",
       "    <tr style=\"text-align: right;\">\n",
       "      <th></th>\n",
       "      <th>YEAR_MONTH</th>\n",
       "      <th>DAY_TYPE</th>\n",
       "      <th>TIME_PER_HOUR</th>\n",
       "      <th>PT_TYPE</th>\n",
       "      <th>ORIGIN_PT_CODE</th>\n",
       "      <th>DESTINATION_PT_CODE</th>\n",
       "      <th>TOTAL_TRIPS</th>\n",
       "      <th>BusStopCode_x</th>\n",
       "      <th>Description_x</th>\n",
       "      <th>Latitude_x</th>\n",
       "      <th>Longitude_x</th>\n",
       "      <th>BusStopCode_y</th>\n",
       "      <th>Description_y</th>\n",
       "      <th>Latitude_y</th>\n",
       "      <th>Longitude_y</th>\n",
       "      <th>Timestamp</th>\n",
       "      <th>geometry</th>\n",
       "    </tr>\n",
       "  </thead>\n",
       "  <tbody>\n",
       "    <tr>\n",
       "      <th>2367</th>\n",
       "      <td>2025-07</td>\n",
       "      <td>WEEKDAY</td>\n",
       "      <td>10</td>\n",
       "      <td>BUS</td>\n",
       "      <td>40401</td>\n",
       "      <td>43189</td>\n",
       "      <td>10</td>\n",
       "      <td>40401.0</td>\n",
       "      <td>Blk 224A</td>\n",
       "      <td>1.357260</td>\n",
       "      <td>103.731210</td>\n",
       "      <td>43189.0</td>\n",
       "      <td>Blk 283</td>\n",
       "      <td>1.346993</td>\n",
       "      <td>103.756815</td>\n",
       "      <td>1990-01-01T10:00:00</td>\n",
       "      <td>LINESTRING (1.35726 103.73121, 1.34699 103.75682)</td>\n",
       "    </tr>\n",
       "    <tr>\n",
       "      <th>15695</th>\n",
       "      <td>2025-07</td>\n",
       "      <td>WEEKDAY</td>\n",
       "      <td>6</td>\n",
       "      <td>BUS</td>\n",
       "      <td>40411</td>\n",
       "      <td>40311</td>\n",
       "      <td>32</td>\n",
       "      <td>40411.0</td>\n",
       "      <td>Blk 221B</td>\n",
       "      <td>1.357550</td>\n",
       "      <td>103.729300</td>\n",
       "      <td>40311.0</td>\n",
       "      <td>Blk 439C</td>\n",
       "      <td>1.357305</td>\n",
       "      <td>103.738908</td>\n",
       "      <td>1990-01-01T06:00:00</td>\n",
       "      <td>LINESTRING (1.35755 103.7293, 1.3573 103.73891)</td>\n",
       "    </tr>\n",
       "    <tr>\n",
       "      <th>17158</th>\n",
       "      <td>2025-07</td>\n",
       "      <td>WEEKDAY</td>\n",
       "      <td>19</td>\n",
       "      <td>BUS</td>\n",
       "      <td>40411</td>\n",
       "      <td>43751</td>\n",
       "      <td>344</td>\n",
       "      <td>40411.0</td>\n",
       "      <td>Blk 221B</td>\n",
       "      <td>1.357550</td>\n",
       "      <td>103.729300</td>\n",
       "      <td>43751.0</td>\n",
       "      <td>Opp Blk 443D</td>\n",
       "      <td>1.356298</td>\n",
       "      <td>103.736664</td>\n",
       "      <td>1990-01-01T19:00:00</td>\n",
       "      <td>LINESTRING (1.35755 103.7293, 1.3563 103.73666)</td>\n",
       "    </tr>\n",
       "    <tr>\n",
       "      <th>26954</th>\n",
       "      <td>2025-07</td>\n",
       "      <td>WEEKDAY</td>\n",
       "      <td>5</td>\n",
       "      <td>BUS</td>\n",
       "      <td>40401</td>\n",
       "      <td>43009</td>\n",
       "      <td>476</td>\n",
       "      <td>40401.0</td>\n",
       "      <td>Blk 224A</td>\n",
       "      <td>1.357260</td>\n",
       "      <td>103.731210</td>\n",
       "      <td>43009.0</td>\n",
       "      <td>Bt Batok Int</td>\n",
       "      <td>1.349994</td>\n",
       "      <td>103.751062</td>\n",
       "      <td>1990-01-01T05:00:00</td>\n",
       "      <td>LINESTRING (1.35726 103.73121, 1.34999 103.75106)</td>\n",
       "    </tr>\n",
       "    <tr>\n",
       "      <th>34267</th>\n",
       "      <td>2025-07</td>\n",
       "      <td>WEEKDAY</td>\n",
       "      <td>6</td>\n",
       "      <td>BUS</td>\n",
       "      <td>40401</td>\n",
       "      <td>43601</td>\n",
       "      <td>135</td>\n",
       "      <td>40401.0</td>\n",
       "      <td>Blk 224A</td>\n",
       "      <td>1.357260</td>\n",
       "      <td>103.731210</td>\n",
       "      <td>43601.0</td>\n",
       "      <td>Opp Blk 532</td>\n",
       "      <td>1.356643</td>\n",
       "      <td>103.749505</td>\n",
       "      <td>1990-01-01T06:00:00</td>\n",
       "      <td>LINESTRING (1.35726 103.73121, 1.35664 103.74951)</td>\n",
       "    </tr>\n",
       "    <tr>\n",
       "      <th>...</th>\n",
       "      <td>...</td>\n",
       "      <td>...</td>\n",
       "      <td>...</td>\n",
       "      <td>...</td>\n",
       "      <td>...</td>\n",
       "      <td>...</td>\n",
       "      <td>...</td>\n",
       "      <td>...</td>\n",
       "      <td>...</td>\n",
       "      <td>...</td>\n",
       "      <td>...</td>\n",
       "      <td>...</td>\n",
       "      <td>...</td>\n",
       "      <td>...</td>\n",
       "      <td>...</td>\n",
       "      <td>...</td>\n",
       "      <td>...</td>\n",
       "    </tr>\n",
       "    <tr>\n",
       "      <th>5713377</th>\n",
       "      <td>2025-07</td>\n",
       "      <td>WEEKDAY</td>\n",
       "      <td>11</td>\n",
       "      <td>BUS</td>\n",
       "      <td>40421</td>\n",
       "      <td>42079</td>\n",
       "      <td>4</td>\n",
       "      <td>40421.0</td>\n",
       "      <td>Blk 220A</td>\n",
       "      <td>1.359380</td>\n",
       "      <td>103.729694</td>\n",
       "      <td>42079.0</td>\n",
       "      <td>Opp Pei Hwa Presby Pr Sch</td>\n",
       "      <td>1.339255</td>\n",
       "      <td>103.776989</td>\n",
       "      <td>1990-01-01T11:00:00</td>\n",
       "      <td>LINESTRING (1.35938 103.72969, 1.33926 103.77699)</td>\n",
       "    </tr>\n",
       "    <tr>\n",
       "      <th>5714662</th>\n",
       "      <td>2025-07</td>\n",
       "      <td>WEEKDAY</td>\n",
       "      <td>14</td>\n",
       "      <td>BUS</td>\n",
       "      <td>40401</td>\n",
       "      <td>43189</td>\n",
       "      <td>2</td>\n",
       "      <td>40401.0</td>\n",
       "      <td>Blk 224A</td>\n",
       "      <td>1.357260</td>\n",
       "      <td>103.731210</td>\n",
       "      <td>43189.0</td>\n",
       "      <td>Blk 283</td>\n",
       "      <td>1.346993</td>\n",
       "      <td>103.756815</td>\n",
       "      <td>1990-01-01T14:00:00</td>\n",
       "      <td>LINESTRING (1.35726 103.73121, 1.34699 103.75682)</td>\n",
       "    </tr>\n",
       "    <tr>\n",
       "      <th>5717112</th>\n",
       "      <td>2025-07</td>\n",
       "      <td>WEEKDAY</td>\n",
       "      <td>19</td>\n",
       "      <td>BUS</td>\n",
       "      <td>40409</td>\n",
       "      <td>40429</td>\n",
       "      <td>2</td>\n",
       "      <td>40409.0</td>\n",
       "      <td>Blk 132B</td>\n",
       "      <td>1.357394</td>\n",
       "      <td>103.731808</td>\n",
       "      <td>40429.0</td>\n",
       "      <td>Blk 242</td>\n",
       "      <td>1.359400</td>\n",
       "      <td>103.729300</td>\n",
       "      <td>1990-01-01T19:00:00</td>\n",
       "      <td>LINESTRING (1.35739 103.73181, 1.3594 103.7293)</td>\n",
       "    </tr>\n",
       "    <tr>\n",
       "      <th>5717450</th>\n",
       "      <td>2025-07</td>\n",
       "      <td>WEEKDAY</td>\n",
       "      <td>17</td>\n",
       "      <td>BUS</td>\n",
       "      <td>40389</td>\n",
       "      <td>42161</td>\n",
       "      <td>1</td>\n",
       "      <td>40389.0</td>\n",
       "      <td>Tengah CC</td>\n",
       "      <td>1.356473</td>\n",
       "      <td>103.734424</td>\n",
       "      <td>42161.0</td>\n",
       "      <td>Blk 18</td>\n",
       "      <td>1.340277</td>\n",
       "      <td>103.772646</td>\n",
       "      <td>1990-01-01T17:00:00</td>\n",
       "      <td>LINESTRING (1.35647 103.73442, 1.34028 103.77265)</td>\n",
       "    </tr>\n",
       "    <tr>\n",
       "      <th>5718385</th>\n",
       "      <td>2025-07</td>\n",
       "      <td>WEEKDAY</td>\n",
       "      <td>8</td>\n",
       "      <td>BUS</td>\n",
       "      <td>40389</td>\n",
       "      <td>43601</td>\n",
       "      <td>92</td>\n",
       "      <td>40389.0</td>\n",
       "      <td>Tengah CC</td>\n",
       "      <td>1.356473</td>\n",
       "      <td>103.734424</td>\n",
       "      <td>43601.0</td>\n",
       "      <td>Opp Blk 532</td>\n",
       "      <td>1.356643</td>\n",
       "      <td>103.749505</td>\n",
       "      <td>1990-01-01T08:00:00</td>\n",
       "      <td>LINESTRING (1.35647 103.73442, 1.35664 103.74951)</td>\n",
       "    </tr>\n",
       "  </tbody>\n",
       "</table>\n",
       "<p>2109 rows × 17 columns</p>\n",
       "</div>"
      ],
      "text/plain": [
       "        YEAR_MONTH DAY_TYPE  TIME_PER_HOUR PT_TYPE ORIGIN_PT_CODE  \\\n",
       "2367       2025-07  WEEKDAY             10     BUS          40401   \n",
       "15695      2025-07  WEEKDAY              6     BUS          40411   \n",
       "17158      2025-07  WEEKDAY             19     BUS          40411   \n",
       "26954      2025-07  WEEKDAY              5     BUS          40401   \n",
       "34267      2025-07  WEEKDAY              6     BUS          40401   \n",
       "...            ...      ...            ...     ...            ...   \n",
       "5713377    2025-07  WEEKDAY             11     BUS          40421   \n",
       "5714662    2025-07  WEEKDAY             14     BUS          40401   \n",
       "5717112    2025-07  WEEKDAY             19     BUS          40409   \n",
       "5717450    2025-07  WEEKDAY             17     BUS          40389   \n",
       "5718385    2025-07  WEEKDAY              8     BUS          40389   \n",
       "\n",
       "        DESTINATION_PT_CODE  TOTAL_TRIPS  BusStopCode_x Description_x  \\\n",
       "2367                  43189           10        40401.0      Blk 224A   \n",
       "15695                 40311           32        40411.0      Blk 221B   \n",
       "17158                 43751          344        40411.0      Blk 221B   \n",
       "26954                 43009          476        40401.0      Blk 224A   \n",
       "34267                 43601          135        40401.0      Blk 224A   \n",
       "...                     ...          ...            ...           ...   \n",
       "5713377               42079            4        40421.0      Blk 220A   \n",
       "5714662               43189            2        40401.0      Blk 224A   \n",
       "5717112               40429            2        40409.0      Blk 132B   \n",
       "5717450               42161            1        40389.0     Tengah CC   \n",
       "5718385               43601           92        40389.0     Tengah CC   \n",
       "\n",
       "         Latitude_x  Longitude_x  BusStopCode_y              Description_y  \\\n",
       "2367       1.357260   103.731210        43189.0                    Blk 283   \n",
       "15695      1.357550   103.729300        40311.0                   Blk 439C   \n",
       "17158      1.357550   103.729300        43751.0               Opp Blk 443D   \n",
       "26954      1.357260   103.731210        43009.0               Bt Batok Int   \n",
       "34267      1.357260   103.731210        43601.0                Opp Blk 532   \n",
       "...             ...          ...            ...                        ...   \n",
       "5713377    1.359380   103.729694        42079.0  Opp Pei Hwa Presby Pr Sch   \n",
       "5714662    1.357260   103.731210        43189.0                    Blk 283   \n",
       "5717112    1.357394   103.731808        40429.0                    Blk 242   \n",
       "5717450    1.356473   103.734424        42161.0                     Blk 18   \n",
       "5718385    1.356473   103.734424        43601.0                Opp Blk 532   \n",
       "\n",
       "         Latitude_y  Longitude_y            Timestamp  \\\n",
       "2367       1.346993   103.756815  1990-01-01T10:00:00   \n",
       "15695      1.357305   103.738908  1990-01-01T06:00:00   \n",
       "17158      1.356298   103.736664  1990-01-01T19:00:00   \n",
       "26954      1.349994   103.751062  1990-01-01T05:00:00   \n",
       "34267      1.356643   103.749505  1990-01-01T06:00:00   \n",
       "...             ...          ...                  ...   \n",
       "5713377    1.339255   103.776989  1990-01-01T11:00:00   \n",
       "5714662    1.346993   103.756815  1990-01-01T14:00:00   \n",
       "5717112    1.359400   103.729300  1990-01-01T19:00:00   \n",
       "5717450    1.340277   103.772646  1990-01-01T17:00:00   \n",
       "5718385    1.356643   103.749505  1990-01-01T08:00:00   \n",
       "\n",
       "                                                  geometry  \n",
       "2367     LINESTRING (1.35726 103.73121, 1.34699 103.75682)  \n",
       "15695      LINESTRING (1.35755 103.7293, 1.3573 103.73891)  \n",
       "17158      LINESTRING (1.35755 103.7293, 1.3563 103.73666)  \n",
       "26954    LINESTRING (1.35726 103.73121, 1.34999 103.75106)  \n",
       "34267    LINESTRING (1.35726 103.73121, 1.35664 103.74951)  \n",
       "...                                                    ...  \n",
       "5713377  LINESTRING (1.35938 103.72969, 1.33926 103.77699)  \n",
       "5714662  LINESTRING (1.35726 103.73121, 1.34699 103.75682)  \n",
       "5717112    LINESTRING (1.35739 103.73181, 1.3594 103.7293)  \n",
       "5717450  LINESTRING (1.35647 103.73442, 1.34028 103.77265)  \n",
       "5718385  LINESTRING (1.35647 103.73442, 1.35664 103.74951)  \n",
       "\n",
       "[2109 rows x 17 columns]"
      ]
     },
     "execution_count": 13,
     "metadata": {},
     "output_type": "execute_result"
    }
   ],
   "source": [
    "df_clean"
   ]
  },
  {
   "cell_type": "code",
   "execution_count": 14,
   "metadata": {},
   "outputs": [
    {
     "name": "stdout",
     "output_type": "stream",
     "text": [
      "Map saved to od_map.html!\n",
      "✔ Map saved to od_map.html with full-width layout\n"
     ]
    }
   ],
   "source": [
    "from keplergl import KeplerGl\n",
    "\n",
    "def save_fullwidth_html(map_obj, file_name=\"map.html\", height=\"100vh\"):\n",
    "    \"\"\"\n",
    "    Save a KeplerGl map with width=100% and full viewport height by default.\n",
    "    \"\"\"\n",
    "    # First save normally\n",
    "    map_obj.save_to_html(file_name=file_name)\n",
    "\n",
    "    # Now patch inline style in HTML\n",
    "    with open(file_name, \"r\", encoding=\"utf-8\") as f:\n",
    "        html = f.read()\n",
    "\n",
    "    # Replace the container div inline style\n",
    "    html = html.replace(\n",
    "        'style=\"width: 1000px; height: 500px;\"',\n",
    "        f'style=\"width: 100%; height: {height};\"'\n",
    "    )\n",
    "\n",
    "    with open(file_name, \"w\", encoding=\"utf-8\") as f:\n",
    "        f.write(html)\n",
    "\n",
    "    print(f\"✔ Map saved to {file_name} with full-width layout\")\n",
    "\n",
    "save_fullwidth_html(map_1, \"od_map.html\", height=\"100vh\")"
   ]
  },
  {
   "cell_type": "code",
   "execution_count": 30,
   "metadata": {},
   "outputs": [
    {
     "data": {
      "application/vnd.plotly.v1+json": {
       "config": {
        "plotlyServerURL": "https://plot.ly"
       },
       "data": [
        {
         "hovertemplate": "Timestamp=%{x}<br>TOTAL_TRIPS=%{y}<extra></extra>",
         "legendgroup": "",
         "marker": {
          "color": "#636efa",
          "pattern": {
           "shape": ""
          }
         },
         "name": "",
         "orientation": "v",
         "showlegend": false,
         "textposition": "auto",
         "type": "bar",
         "x": [
          "1990-01-01T10:00:00",
          "1990-01-01T05:00:00",
          "1990-01-01T06:00:00",
          "1990-01-01T05:00:00",
          "1990-01-01T13:00:00",
          "1990-01-01T10:00:00",
          "1990-01-01T22:00:00",
          "1990-01-01T13:00:00",
          "1990-01-01T08:00:00",
          "1990-01-01T18:00:00",
          "1990-01-01T12:00:00",
          "1990-01-01T15:00:00",
          "1990-01-01T06:00:00",
          "1990-01-01T16:00:00",
          "1990-01-01T17:00:00",
          "1990-01-01T08:00:00",
          "1990-01-01T21:00:00",
          "1990-01-01T22:00:00",
          "1990-01-01T10:00:00",
          "1990-01-01T17:00:00",
          "1990-01-01T17:00:00",
          "1990-01-01T14:00:00",
          "1990-01-01T07:00:00",
          "1990-01-01T13:00:00",
          "1990-01-01T08:00:00",
          "1990-01-01T15:00:00",
          "1990-01-01T07:00:00",
          "1990-01-01T05:00:00",
          "1990-01-01T15:00:00",
          "1990-01-01T16:00:00",
          "1990-01-01T18:00:00",
          "1990-01-01T08:00:00",
          "1990-01-01T19:00:00",
          "1990-01-01T09:00:00",
          "1990-01-01T08:00:00",
          "1990-01-01T19:00:00",
          "1990-01-01T12:00:00",
          "1990-01-01T21:00:00",
          "1990-01-01T11:00:00",
          "1990-01-01T16:00:00",
          "1990-01-01T18:00:00",
          "1990-01-01T15:00:00",
          "1990-01-01T19:00:00",
          "1990-01-01T17:00:00",
          "1990-01-01T15:00:00",
          "1990-01-01T07:00:00",
          "1990-01-01T07:00:00",
          "1990-01-01T16:00:00",
          "1990-01-01T08:00:00",
          "1990-01-01T13:00:00",
          "1990-01-01T12:00:00",
          "1990-01-01T19:00:00",
          "1990-01-01T20:00:00",
          "1990-01-01T20:00:00",
          "1990-01-01T22:00:00",
          "1990-01-01T21:00:00",
          "1990-01-01T05:00:00",
          "1990-01-01T12:00:00",
          "1990-01-01T11:00:00",
          "1990-01-01T21:00:00",
          "1990-01-01T11:00:00",
          "1990-01-01T14:00:00",
          "1990-01-01T07:00:00",
          "1990-01-01T07:00:00",
          "1990-01-01T15:00:00",
          "1990-01-01T05:00:00",
          "1990-01-01T13:00:00",
          "1990-01-01T13:00:00",
          "1990-01-01T06:00:00",
          "1990-01-01T22:00:00",
          "1990-01-01T18:00:00",
          "1990-01-01T06:00:00",
          "1990-01-01T07:00:00",
          "1990-01-01T17:00:00",
          "1990-01-01T14:00:00",
          "1990-01-01T07:00:00",
          "1990-01-01T07:00:00",
          "1990-01-01T12:00:00",
          "1990-01-01T15:00:00",
          "1990-01-01T13:00:00",
          "1990-01-01T05:00:00",
          "1990-01-01T21:00:00",
          "1990-01-01T17:00:00",
          "1990-01-01T18:00:00",
          "1990-01-01T09:00:00",
          "1990-01-01T21:00:00",
          "1990-01-01T17:00:00",
          "1990-01-01T09:00:00",
          "1990-01-01T19:00:00",
          "1990-01-01T15:00:00",
          "1990-01-01T06:00:00",
          "1990-01-01T12:00:00",
          "1990-01-01T09:00:00",
          "1990-01-01T22:00:00",
          "1990-01-01T17:00:00",
          "1990-01-01T17:00:00",
          "1990-01-01T15:00:00",
          "1990-01-01T20:00:00",
          "1990-01-01T15:00:00",
          "1990-01-01T08:00:00",
          "1990-01-01T16:00:00",
          "1990-01-01T11:00:00",
          "1990-01-01T21:00:00",
          "1990-01-01T07:00:00",
          "1990-01-01T20:00:00",
          "1990-01-01T12:00:00",
          "1990-01-01T14:00:00",
          "1990-01-01T16:00:00",
          "1990-01-01T06:00:00",
          "1990-01-01T22:00:00",
          "1990-01-01T19:00:00",
          "1990-01-01T17:00:00",
          "1990-01-01T08:00:00",
          "1990-01-01T12:00:00",
          "1990-01-01T06:00:00",
          "1990-01-01T06:00:00",
          "1990-01-01T06:00:00",
          "1990-01-01T22:00:00",
          "1990-01-01T08:00:00",
          "1990-01-01T21:00:00",
          "1990-01-01T06:00:00",
          "1990-01-01T19:00:00",
          "1990-01-01T07:00:00",
          "1990-01-01T09:00:00",
          "1990-01-01T08:00:00",
          "1990-01-01T07:00:00",
          "1990-01-01T23:00:00",
          "1990-01-01T21:00:00",
          "1990-01-01T06:00:00",
          "1990-01-01T12:00:00",
          "1990-01-01T21:00:00",
          "1990-01-01T06:00:00",
          "1990-01-01T20:00:00",
          "1990-01-01T07:00:00",
          "1990-01-01T16:00:00",
          "1990-01-01T13:00:00",
          "1990-01-01T05:00:00",
          "1990-01-01T12:00:00",
          "1990-01-01T08:00:00",
          "1990-01-01T19:00:00",
          "1990-01-01T11:00:00",
          "1990-01-01T17:00:00",
          "1990-01-01T13:00:00",
          "1990-01-01T20:00:00",
          "1990-01-01T08:00:00",
          "1990-01-01T11:00:00",
          "1990-01-01T11:00:00",
          "1990-01-01T11:00:00",
          "1990-01-01T20:00:00",
          "1990-01-01T10:00:00",
          "1990-01-01T07:00:00",
          "1990-01-01T14:00:00",
          "1990-01-01T15:00:00",
          "1990-01-01T14:00:00",
          "1990-01-01T23:00:00",
          "1990-01-01T14:00:00",
          "1990-01-01T19:00:00",
          "1990-01-01T12:00:00",
          "1990-01-01T21:00:00",
          "1990-01-01T13:00:00",
          "1990-01-01T18:00:00",
          "1990-01-01T14:00:00",
          "1990-01-01T08:00:00",
          "1990-01-01T16:00:00",
          "1990-01-01T09:00:00",
          "1990-01-01T08:00:00",
          "1990-01-01T13:00:00",
          "1990-01-01T23:00:00",
          "1990-01-01T09:00:00",
          "1990-01-01T17:00:00",
          "1990-01-01T14:00:00",
          "1990-01-01T16:00:00",
          "1990-01-01T07:00:00",
          "1990-01-01T12:00:00",
          "1990-01-01T09:00:00",
          "1990-01-01T11:00:00",
          "1990-01-01T15:00:00",
          "1990-01-01T18:00:00",
          "1990-01-01T08:00:00",
          "1990-01-01T17:00:00",
          "1990-01-01T11:00:00",
          "1990-01-01T12:00:00",
          "1990-01-01T18:00:00",
          "1990-01-01T13:00:00",
          "1990-01-01T05:00:00",
          "1990-01-01T22:00:00",
          "1990-01-01T14:00:00",
          "1990-01-01T20:00:00",
          "1990-01-01T22:00:00",
          "1990-01-01T19:00:00",
          "1990-01-01T07:00:00",
          "1990-01-01T23:00:00",
          "1990-01-01T16:00:00",
          "1990-01-01T14:00:00",
          "1990-01-01T19:00:00",
          "1990-01-01T06:00:00",
          "1990-01-01T19:00:00",
          "1990-01-01T06:00:00",
          "1990-01-01T05:00:00",
          "1990-01-01T09:00:00",
          "1990-01-01T06:00:00",
          "1990-01-01T10:00:00",
          "1990-01-01T20:00:00",
          "1990-01-01T14:00:00",
          "1990-01-01T15:00:00",
          "1990-01-01T12:00:00",
          "1990-01-01T13:00:00",
          "1990-01-01T05:00:00",
          "1990-01-01T19:00:00",
          "1990-01-01T23:00:00",
          "1990-01-01T12:00:00",
          "1990-01-01T08:00:00",
          "1990-01-01T19:00:00",
          "1990-01-01T17:00:00",
          "1990-01-01T17:00:00",
          "1990-01-01T11:00:00",
          "1990-01-01T22:00:00",
          "1990-01-01T11:00:00",
          "1990-01-01T19:00:00",
          "1990-01-01T07:00:00",
          "1990-01-01T17:00:00",
          "1990-01-01T10:00:00",
          "1990-01-01T09:00:00",
          "1990-01-01T12:00:00",
          "1990-01-01T14:00:00",
          "1990-01-01T13:00:00",
          "1990-01-01T14:00:00",
          "1990-01-01T20:00:00",
          "1990-01-01T18:00:00",
          "1990-01-01T19:00:00",
          "1990-01-01T09:00:00",
          "1990-01-01T14:00:00",
          "1990-01-01T10:00:00",
          "1990-01-01T20:00:00",
          "1990-01-01T17:00:00",
          "1990-01-01T08:00:00",
          "1990-01-01T20:00:00",
          "1990-01-01T18:00:00",
          "1990-01-01T06:00:00",
          "1990-01-01T13:00:00",
          "1990-01-01T16:00:00",
          "1990-01-01T05:00:00",
          "1990-01-01T16:00:00",
          "1990-01-01T22:00:00",
          "1990-01-01T17:00:00",
          "1990-01-01T23:00:00",
          "1990-01-01T23:00:00",
          "1990-01-01T16:00:00",
          "1990-01-01T10:00:00",
          "1990-01-01T18:00:00",
          "1990-01-01T16:00:00",
          "1990-01-01T07:00:00",
          "1990-01-01T23:00:00",
          "1990-01-01T09:00:00",
          "1990-01-01T08:00:00",
          "1990-01-01T18:00:00",
          "1990-01-01T10:00:00",
          "1990-01-01T17:00:00",
          "1990-01-01T12:00:00",
          "1990-01-01T21:00:00",
          "1990-01-01T09:00:00",
          "1990-01-01T19:00:00",
          "1990-01-01T18:00:00",
          "1990-01-01T05:00:00",
          "1990-01-01T23:00:00",
          "1990-01-01T18:00:00",
          "1990-01-01T13:00:00",
          "1990-01-01T16:00:00",
          "1990-01-01T07:00:00",
          "1990-01-01T05:00:00",
          "1990-01-01T16:00:00",
          "1990-01-01T18:00:00",
          "1990-01-01T18:00:00",
          "1990-01-01T20:00:00",
          "1990-01-01T10:00:00",
          "1990-01-01T21:00:00",
          "1990-01-01T12:00:00",
          "1990-01-01T07:00:00",
          "1990-01-01T22:00:00",
          "1990-01-01T22:00:00",
          "1990-01-01T16:00:00",
          "1990-01-01T11:00:00",
          "1990-01-01T16:00:00",
          "1990-01-01T11:00:00",
          "1990-01-01T08:00:00",
          "1990-01-01T08:00:00",
          "1990-01-01T10:00:00",
          "1990-01-01T10:00:00",
          "1990-01-01T18:00:00",
          "1990-01-01T13:00:00",
          "1990-01-01T19:00:00",
          "1990-01-01T15:00:00",
          "1990-01-01T07:00:00",
          "1990-01-01T17:00:00",
          "1990-01-01T19:00:00",
          "1990-01-01T22:00:00",
          "1990-01-01T10:00:00",
          "1990-01-01T23:00:00",
          "1990-01-01T10:00:00",
          "1990-01-01T09:00:00",
          "1990-01-01T16:00:00",
          "1990-01-01T11:00:00",
          "1990-01-01T06:00:00",
          "1990-01-01T11:00:00",
          "1990-01-01T06:00:00",
          "1990-01-01T10:00:00",
          "1990-01-01T15:00:00",
          "1990-01-01T13:00:00",
          "1990-01-01T08:00:00",
          "1990-01-01T13:00:00",
          "1990-01-01T18:00:00",
          "1990-01-01T10:00:00",
          "1990-01-01T18:00:00",
          "1990-01-01T14:00:00",
          "1990-01-01T21:00:00",
          "1990-01-01T23:00:00",
          "1990-01-01T11:00:00",
          "1990-01-01T19:00:00",
          "1990-01-01T18:00:00",
          "1990-01-01T14:00:00",
          "1990-01-01T10:00:00",
          "1990-01-01T20:00:00",
          "1990-01-01T09:00:00",
          "1990-01-01T13:00:00",
          "1990-01-01T13:00:00",
          "1990-01-01T09:00:00",
          "1990-01-01T08:00:00",
          "1990-01-01T16:00:00",
          "1990-01-01T09:00:00",
          "1990-01-01T12:00:00",
          "1990-01-01T21:00:00",
          "1990-01-01T08:00:00",
          "1990-01-01T16:00:00",
          "1990-01-01T09:00:00",
          "1990-01-01T16:00:00",
          "1990-01-01T11:00:00",
          "1990-01-01T20:00:00",
          "1990-01-01T09:00:00",
          "1990-01-01T15:00:00",
          "1990-01-01T15:00:00",
          "1990-01-01T17:00:00",
          "1990-01-01T10:00:00",
          "1990-01-01T22:00:00",
          "1990-01-01T06:00:00",
          "1990-01-01T21:00:00",
          "1990-01-01T11:00:00",
          "1990-01-01T09:00:00",
          "1990-01-01T15:00:00",
          "1990-01-01T08:00:00",
          "1990-01-01T08:00:00",
          "1990-01-01T18:00:00",
          "1990-01-01T05:00:00",
          "1990-01-01T20:00:00",
          "1990-01-01T22:00:00",
          "1990-01-01T07:00:00",
          "1990-01-01T10:00:00",
          "1990-01-01T19:00:00",
          "1990-01-01T09:00:00",
          "1990-01-01T14:00:00",
          "1990-01-01T16:00:00",
          "1990-01-01T07:00:00",
          "1990-01-01T20:00:00",
          "1990-01-01T08:00:00",
          "1990-01-01T18:00:00",
          "1990-01-01T16:00:00",
          "1990-01-01T20:00:00",
          "1990-01-01T18:00:00",
          "1990-01-01T07:00:00",
          "1990-01-01T18:00:00",
          "1990-01-01T17:00:00",
          "1990-01-01T07:00:00",
          "1990-01-01T06:00:00",
          "1990-01-01T10:00:00",
          "1990-01-01T20:00:00",
          "1990-01-01T17:00:00",
          "1990-01-01T10:00:00",
          "1990-01-01T11:00:00",
          "1990-01-01T13:00:00",
          "1990-01-01T16:00:00",
          "1990-01-01T22:00:00",
          "1990-01-01T07:00:00",
          "1990-01-01T11:00:00",
          "1990-01-01T19:00:00",
          "1990-01-01T21:00:00",
          "1990-01-01T22:00:00",
          "1990-01-01T16:00:00",
          "1990-01-01T12:00:00",
          "1990-01-01T21:00:00",
          "1990-01-01T14:00:00",
          "1990-01-01T07:00:00",
          "1990-01-01T12:00:00",
          "1990-01-01T16:00:00",
          "1990-01-01T05:00:00",
          "1990-01-01T20:00:00",
          "1990-01-01T14:00:00"
         ],
         "xaxis": "x",
         "y": {
          "bdata": "CgDcAYcAPAACAAEAAgAQAEoAAgADABwAXgABAAIAagAKAAMABAAmADsAHgAEANoACQACAD4AEwAEABIAAgAUAAEABwADABcAPQANAAoAQAAbAAsAAgArAAoABQABAAYAGAAHAE8AAQAEABwAAQAHAHQATwFHAC4AAQABADMBCgAGAAEAHwADAAIAMwAsANIGSQCUAQEAdQCACBMAAQABAFMAAQAEAAEAAQBBAHMAEQAMALgAlAABACsAAQADABYAGgAEAAQAAwAHAB4ABADeAAEAJQAsAAcAJQACAAYAAgABAAMALgDiAf4AAgAvAAEABAAEAFUABgAaAL0AAgAJABAABgABAAMAbgADABwAAQADAAUAMgABAAsACgABAAgAQwAEADoAKgA0AEAACQALAAMACgAEAAMAAQA2AAgASQAnAAEAPAA0AA0ACgADABIAJgACAAsALwAGAAQABwArAB8ACAAGAAUAAgAgAAIAAQAaAAUAAQABAAEAHQBxAAEAFAHNADkAMgAcAAEAAQABAIsCFgABACMAIwBaAAIANgAFABEAAQCAAAEAjQAHAAMAHwAaABoANgCxAAIAcQABACMAKgACAAIAYAEmAI8AGQBKABoAAwAFAAEAKwAEAC0ADgABAAYAFQAoAAMAAQAEACoAgwABAAIABABLAEsAEgABAAEAIAACABEACwADAAIAAgABAAIAAQBmAAQACwABACsADwA0ACoAAQBXABEAAgABAAUAHwBKASgAUgFcAAIAEgABABIAIQAPABIASQADADcAAQCHATsCAQAHACUASwDzAAMAJgASAF8EBAAMAB8ALAAGAAEAAQAJAPQAbwAIAAcAAQAWAAEAMgAFAMQAGgAMAEoAAQCbAAEATQAHAAIADwAEAAIAAQABAAEADQDJAAEAAgACACsAJwEiAAEAXgAEAAEACAAEAH4AAQAMAAYAkgECAAsAAwACAAIAfwBPAgEAGwCnABIARgAMAAkAAQACABoAAQAHADoAPwADAAUABgBTAAIACgAUAAYABgAiAAEAPQACAA==",
          "dtype": "i2"
         },
         "yaxis": "y"
        }
       ],
       "layout": {
        "barmode": "relative",
        "legend": {
         "tracegroupgap": 0
        },
        "template": {
         "data": {
          "bar": [
           {
            "error_x": {
             "color": "#2a3f5f"
            },
            "error_y": {
             "color": "#2a3f5f"
            },
            "marker": {
             "line": {
              "color": "#E5ECF6",
              "width": 0.5
             },
             "pattern": {
              "fillmode": "overlay",
              "size": 10,
              "solidity": 0.2
             }
            },
            "type": "bar"
           }
          ],
          "barpolar": [
           {
            "marker": {
             "line": {
              "color": "#E5ECF6",
              "width": 0.5
             },
             "pattern": {
              "fillmode": "overlay",
              "size": 10,
              "solidity": 0.2
             }
            },
            "type": "barpolar"
           }
          ],
          "carpet": [
           {
            "aaxis": {
             "endlinecolor": "#2a3f5f",
             "gridcolor": "white",
             "linecolor": "white",
             "minorgridcolor": "white",
             "startlinecolor": "#2a3f5f"
            },
            "baxis": {
             "endlinecolor": "#2a3f5f",
             "gridcolor": "white",
             "linecolor": "white",
             "minorgridcolor": "white",
             "startlinecolor": "#2a3f5f"
            },
            "type": "carpet"
           }
          ],
          "choropleth": [
           {
            "colorbar": {
             "outlinewidth": 0,
             "ticks": ""
            },
            "type": "choropleth"
           }
          ],
          "contour": [
           {
            "colorbar": {
             "outlinewidth": 0,
             "ticks": ""
            },
            "colorscale": [
             [
              0,
              "#0d0887"
             ],
             [
              0.1111111111111111,
              "#46039f"
             ],
             [
              0.2222222222222222,
              "#7201a8"
             ],
             [
              0.3333333333333333,
              "#9c179e"
             ],
             [
              0.4444444444444444,
              "#bd3786"
             ],
             [
              0.5555555555555556,
              "#d8576b"
             ],
             [
              0.6666666666666666,
              "#ed7953"
             ],
             [
              0.7777777777777778,
              "#fb9f3a"
             ],
             [
              0.8888888888888888,
              "#fdca26"
             ],
             [
              1,
              "#f0f921"
             ]
            ],
            "type": "contour"
           }
          ],
          "contourcarpet": [
           {
            "colorbar": {
             "outlinewidth": 0,
             "ticks": ""
            },
            "type": "contourcarpet"
           }
          ],
          "heatmap": [
           {
            "colorbar": {
             "outlinewidth": 0,
             "ticks": ""
            },
            "colorscale": [
             [
              0,
              "#0d0887"
             ],
             [
              0.1111111111111111,
              "#46039f"
             ],
             [
              0.2222222222222222,
              "#7201a8"
             ],
             [
              0.3333333333333333,
              "#9c179e"
             ],
             [
              0.4444444444444444,
              "#bd3786"
             ],
             [
              0.5555555555555556,
              "#d8576b"
             ],
             [
              0.6666666666666666,
              "#ed7953"
             ],
             [
              0.7777777777777778,
              "#fb9f3a"
             ],
             [
              0.8888888888888888,
              "#fdca26"
             ],
             [
              1,
              "#f0f921"
             ]
            ],
            "type": "heatmap"
           }
          ],
          "histogram": [
           {
            "marker": {
             "pattern": {
              "fillmode": "overlay",
              "size": 10,
              "solidity": 0.2
             }
            },
            "type": "histogram"
           }
          ],
          "histogram2d": [
           {
            "colorbar": {
             "outlinewidth": 0,
             "ticks": ""
            },
            "colorscale": [
             [
              0,
              "#0d0887"
             ],
             [
              0.1111111111111111,
              "#46039f"
             ],
             [
              0.2222222222222222,
              "#7201a8"
             ],
             [
              0.3333333333333333,
              "#9c179e"
             ],
             [
              0.4444444444444444,
              "#bd3786"
             ],
             [
              0.5555555555555556,
              "#d8576b"
             ],
             [
              0.6666666666666666,
              "#ed7953"
             ],
             [
              0.7777777777777778,
              "#fb9f3a"
             ],
             [
              0.8888888888888888,
              "#fdca26"
             ],
             [
              1,
              "#f0f921"
             ]
            ],
            "type": "histogram2d"
           }
          ],
          "histogram2dcontour": [
           {
            "colorbar": {
             "outlinewidth": 0,
             "ticks": ""
            },
            "colorscale": [
             [
              0,
              "#0d0887"
             ],
             [
              0.1111111111111111,
              "#46039f"
             ],
             [
              0.2222222222222222,
              "#7201a8"
             ],
             [
              0.3333333333333333,
              "#9c179e"
             ],
             [
              0.4444444444444444,
              "#bd3786"
             ],
             [
              0.5555555555555556,
              "#d8576b"
             ],
             [
              0.6666666666666666,
              "#ed7953"
             ],
             [
              0.7777777777777778,
              "#fb9f3a"
             ],
             [
              0.8888888888888888,
              "#fdca26"
             ],
             [
              1,
              "#f0f921"
             ]
            ],
            "type": "histogram2dcontour"
           }
          ],
          "mesh3d": [
           {
            "colorbar": {
             "outlinewidth": 0,
             "ticks": ""
            },
            "type": "mesh3d"
           }
          ],
          "parcoords": [
           {
            "line": {
             "colorbar": {
              "outlinewidth": 0,
              "ticks": ""
             }
            },
            "type": "parcoords"
           }
          ],
          "pie": [
           {
            "automargin": true,
            "type": "pie"
           }
          ],
          "scatter": [
           {
            "fillpattern": {
             "fillmode": "overlay",
             "size": 10,
             "solidity": 0.2
            },
            "type": "scatter"
           }
          ],
          "scatter3d": [
           {
            "line": {
             "colorbar": {
              "outlinewidth": 0,
              "ticks": ""
             }
            },
            "marker": {
             "colorbar": {
              "outlinewidth": 0,
              "ticks": ""
             }
            },
            "type": "scatter3d"
           }
          ],
          "scattercarpet": [
           {
            "marker": {
             "colorbar": {
              "outlinewidth": 0,
              "ticks": ""
             }
            },
            "type": "scattercarpet"
           }
          ],
          "scattergeo": [
           {
            "marker": {
             "colorbar": {
              "outlinewidth": 0,
              "ticks": ""
             }
            },
            "type": "scattergeo"
           }
          ],
          "scattergl": [
           {
            "marker": {
             "colorbar": {
              "outlinewidth": 0,
              "ticks": ""
             }
            },
            "type": "scattergl"
           }
          ],
          "scattermap": [
           {
            "marker": {
             "colorbar": {
              "outlinewidth": 0,
              "ticks": ""
             }
            },
            "type": "scattermap"
           }
          ],
          "scattermapbox": [
           {
            "marker": {
             "colorbar": {
              "outlinewidth": 0,
              "ticks": ""
             }
            },
            "type": "scattermapbox"
           }
          ],
          "scatterpolar": [
           {
            "marker": {
             "colorbar": {
              "outlinewidth": 0,
              "ticks": ""
             }
            },
            "type": "scatterpolar"
           }
          ],
          "scatterpolargl": [
           {
            "marker": {
             "colorbar": {
              "outlinewidth": 0,
              "ticks": ""
             }
            },
            "type": "scatterpolargl"
           }
          ],
          "scatterternary": [
           {
            "marker": {
             "colorbar": {
              "outlinewidth": 0,
              "ticks": ""
             }
            },
            "type": "scatterternary"
           }
          ],
          "surface": [
           {
            "colorbar": {
             "outlinewidth": 0,
             "ticks": ""
            },
            "colorscale": [
             [
              0,
              "#0d0887"
             ],
             [
              0.1111111111111111,
              "#46039f"
             ],
             [
              0.2222222222222222,
              "#7201a8"
             ],
             [
              0.3333333333333333,
              "#9c179e"
             ],
             [
              0.4444444444444444,
              "#bd3786"
             ],
             [
              0.5555555555555556,
              "#d8576b"
             ],
             [
              0.6666666666666666,
              "#ed7953"
             ],
             [
              0.7777777777777778,
              "#fb9f3a"
             ],
             [
              0.8888888888888888,
              "#fdca26"
             ],
             [
              1,
              "#f0f921"
             ]
            ],
            "type": "surface"
           }
          ],
          "table": [
           {
            "cells": {
             "fill": {
              "color": "#EBF0F8"
             },
             "line": {
              "color": "white"
             }
            },
            "header": {
             "fill": {
              "color": "#C8D4E3"
             },
             "line": {
              "color": "white"
             }
            },
            "type": "table"
           }
          ]
         },
         "layout": {
          "annotationdefaults": {
           "arrowcolor": "#2a3f5f",
           "arrowhead": 0,
           "arrowwidth": 1
          },
          "autotypenumbers": "strict",
          "coloraxis": {
           "colorbar": {
            "outlinewidth": 0,
            "ticks": ""
           }
          },
          "colorscale": {
           "diverging": [
            [
             0,
             "#8e0152"
            ],
            [
             0.1,
             "#c51b7d"
            ],
            [
             0.2,
             "#de77ae"
            ],
            [
             0.3,
             "#f1b6da"
            ],
            [
             0.4,
             "#fde0ef"
            ],
            [
             0.5,
             "#f7f7f7"
            ],
            [
             0.6,
             "#e6f5d0"
            ],
            [
             0.7,
             "#b8e186"
            ],
            [
             0.8,
             "#7fbc41"
            ],
            [
             0.9,
             "#4d9221"
            ],
            [
             1,
             "#276419"
            ]
           ],
           "sequential": [
            [
             0,
             "#0d0887"
            ],
            [
             0.1111111111111111,
             "#46039f"
            ],
            [
             0.2222222222222222,
             "#7201a8"
            ],
            [
             0.3333333333333333,
             "#9c179e"
            ],
            [
             0.4444444444444444,
             "#bd3786"
            ],
            [
             0.5555555555555556,
             "#d8576b"
            ],
            [
             0.6666666666666666,
             "#ed7953"
            ],
            [
             0.7777777777777778,
             "#fb9f3a"
            ],
            [
             0.8888888888888888,
             "#fdca26"
            ],
            [
             1,
             "#f0f921"
            ]
           ],
           "sequentialminus": [
            [
             0,
             "#0d0887"
            ],
            [
             0.1111111111111111,
             "#46039f"
            ],
            [
             0.2222222222222222,
             "#7201a8"
            ],
            [
             0.3333333333333333,
             "#9c179e"
            ],
            [
             0.4444444444444444,
             "#bd3786"
            ],
            [
             0.5555555555555556,
             "#d8576b"
            ],
            [
             0.6666666666666666,
             "#ed7953"
            ],
            [
             0.7777777777777778,
             "#fb9f3a"
            ],
            [
             0.8888888888888888,
             "#fdca26"
            ],
            [
             1,
             "#f0f921"
            ]
           ]
          },
          "colorway": [
           "#636efa",
           "#EF553B",
           "#00cc96",
           "#ab63fa",
           "#FFA15A",
           "#19d3f3",
           "#FF6692",
           "#B6E880",
           "#FF97FF",
           "#FECB52"
          ],
          "font": {
           "color": "#2a3f5f"
          },
          "geo": {
           "bgcolor": "white",
           "lakecolor": "white",
           "landcolor": "#E5ECF6",
           "showlakes": true,
           "showland": true,
           "subunitcolor": "white"
          },
          "hoverlabel": {
           "align": "left"
          },
          "hovermode": "closest",
          "mapbox": {
           "style": "light"
          },
          "paper_bgcolor": "white",
          "plot_bgcolor": "#E5ECF6",
          "polar": {
           "angularaxis": {
            "gridcolor": "white",
            "linecolor": "white",
            "ticks": ""
           },
           "bgcolor": "#E5ECF6",
           "radialaxis": {
            "gridcolor": "white",
            "linecolor": "white",
            "ticks": ""
           }
          },
          "scene": {
           "xaxis": {
            "backgroundcolor": "#E5ECF6",
            "gridcolor": "white",
            "gridwidth": 2,
            "linecolor": "white",
            "showbackground": true,
            "ticks": "",
            "zerolinecolor": "white"
           },
           "yaxis": {
            "backgroundcolor": "#E5ECF6",
            "gridcolor": "white",
            "gridwidth": 2,
            "linecolor": "white",
            "showbackground": true,
            "ticks": "",
            "zerolinecolor": "white"
           },
           "zaxis": {
            "backgroundcolor": "#E5ECF6",
            "gridcolor": "white",
            "gridwidth": 2,
            "linecolor": "white",
            "showbackground": true,
            "ticks": "",
            "zerolinecolor": "white"
           }
          },
          "shapedefaults": {
           "line": {
            "color": "#2a3f5f"
           }
          },
          "ternary": {
           "aaxis": {
            "gridcolor": "white",
            "linecolor": "white",
            "ticks": ""
           },
           "baxis": {
            "gridcolor": "white",
            "linecolor": "white",
            "ticks": ""
           },
           "bgcolor": "#E5ECF6",
           "caxis": {
            "gridcolor": "white",
            "linecolor": "white",
            "ticks": ""
           }
          },
          "title": {
           "x": 0.05
          },
          "xaxis": {
           "automargin": true,
           "gridcolor": "white",
           "linecolor": "white",
           "ticks": "",
           "title": {
            "standoff": 15
           },
           "zerolinecolor": "white",
           "zerolinewidth": 2
          },
          "yaxis": {
           "automargin": true,
           "gridcolor": "white",
           "linecolor": "white",
           "ticks": "",
           "title": {
            "standoff": 15
           },
           "zerolinecolor": "white",
           "zerolinewidth": 2
          }
         }
        },
        "title": {
         "text": "Bar Chart Example"
        },
        "xaxis": {
         "anchor": "y",
         "domain": [
          0,
          1
         ],
         "title": {
          "text": "Timestamp"
         }
        },
        "yaxis": {
         "anchor": "x",
         "domain": [
          0,
          1
         ],
         "title": {
          "text": "TOTAL_TRIPS"
         }
        }
       }
      }
     },
     "metadata": {},
     "output_type": "display_data"
    }
   ],
   "source": [
    "# Create bar chart\n",
    "fig = px.bar(df_clean[df_clean[\"ORIGIN_PT_CODE\"] == 40401], x='Timestamp', y='TOTAL_TRIPS', title='Bar Chart Example')\n",
    "\n",
    "# Show figure\n",
    "fig.show()"
   ]
  },
  {
   "cell_type": "code",
   "execution_count": null,
   "metadata": {},
   "outputs": [
    {
     "data": {
      "text/html": [
       "<div>\n",
       "<style scoped>\n",
       "    .dataframe tbody tr th:only-of-type {\n",
       "        vertical-align: middle;\n",
       "    }\n",
       "\n",
       "    .dataframe tbody tr th {\n",
       "        vertical-align: top;\n",
       "    }\n",
       "\n",
       "    .dataframe thead th {\n",
       "        text-align: right;\n",
       "    }\n",
       "</style>\n",
       "<table border=\"1\" class=\"dataframe\">\n",
       "  <thead>\n",
       "    <tr style=\"text-align: right;\">\n",
       "      <th></th>\n",
       "      <th>YEAR_MONTH</th>\n",
       "      <th>DAY_TYPE</th>\n",
       "      <th>TIME_PER_HOUR</th>\n",
       "      <th>PT_TYPE</th>\n",
       "      <th>ORIGIN_PT_CODE</th>\n",
       "      <th>DESTINATION_PT_CODE</th>\n",
       "      <th>TOTAL_TRIPS</th>\n",
       "      <th>BusStopCode_x</th>\n",
       "      <th>Description_x</th>\n",
       "      <th>Latitude_x</th>\n",
       "      <th>Longitude_x</th>\n",
       "      <th>BusStopCode_y</th>\n",
       "      <th>Description_y</th>\n",
       "      <th>Latitude_y</th>\n",
       "      <th>Longitude_y</th>\n",
       "      <th>Timestamp</th>\n",
       "      <th>geometry</th>\n",
       "    </tr>\n",
       "  </thead>\n",
       "  <tbody>\n",
       "    <tr>\n",
       "      <th>2367</th>\n",
       "      <td>2025-07</td>\n",
       "      <td>WEEKDAY</td>\n",
       "      <td>10</td>\n",
       "      <td>BUS</td>\n",
       "      <td>40401</td>\n",
       "      <td>43189</td>\n",
       "      <td>10</td>\n",
       "      <td>40401.0</td>\n",
       "      <td>Blk 224A</td>\n",
       "      <td>1.35726</td>\n",
       "      <td>103.73121</td>\n",
       "      <td>43189.0</td>\n",
       "      <td>Blk 283</td>\n",
       "      <td>1.346993</td>\n",
       "      <td>103.756815</td>\n",
       "      <td>1990-01-01T10:00:00</td>\n",
       "      <td>LINESTRING (1.35726 103.73121, 1.34699 103.75682)</td>\n",
       "    </tr>\n",
       "    <tr>\n",
       "      <th>26954</th>\n",
       "      <td>2025-07</td>\n",
       "      <td>WEEKDAY</td>\n",
       "      <td>5</td>\n",
       "      <td>BUS</td>\n",
       "      <td>40401</td>\n",
       "      <td>43009</td>\n",
       "      <td>476</td>\n",
       "      <td>40401.0</td>\n",
       "      <td>Blk 224A</td>\n",
       "      <td>1.35726</td>\n",
       "      <td>103.73121</td>\n",
       "      <td>43009.0</td>\n",
       "      <td>Bt Batok Int</td>\n",
       "      <td>1.349994</td>\n",
       "      <td>103.751062</td>\n",
       "      <td>1990-01-01T05:00:00</td>\n",
       "      <td>LINESTRING (1.35726 103.73121, 1.34999 103.75106)</td>\n",
       "    </tr>\n",
       "    <tr>\n",
       "      <th>34267</th>\n",
       "      <td>2025-07</td>\n",
       "      <td>WEEKDAY</td>\n",
       "      <td>6</td>\n",
       "      <td>BUS</td>\n",
       "      <td>40401</td>\n",
       "      <td>43601</td>\n",
       "      <td>135</td>\n",
       "      <td>40401.0</td>\n",
       "      <td>Blk 224A</td>\n",
       "      <td>1.35726</td>\n",
       "      <td>103.73121</td>\n",
       "      <td>43601.0</td>\n",
       "      <td>Opp Blk 532</td>\n",
       "      <td>1.356643</td>\n",
       "      <td>103.749505</td>\n",
       "      <td>1990-01-01T06:00:00</td>\n",
       "      <td>LINESTRING (1.35726 103.73121, 1.35664 103.74951)</td>\n",
       "    </tr>\n",
       "    <tr>\n",
       "      <th>47737</th>\n",
       "      <td>2025-07</td>\n",
       "      <td>WEEKDAY</td>\n",
       "      <td>5</td>\n",
       "      <td>BUS</td>\n",
       "      <td>40401</td>\n",
       "      <td>42159</td>\n",
       "      <td>60</td>\n",
       "      <td>40401.0</td>\n",
       "      <td>Blk 224A</td>\n",
       "      <td>1.35726</td>\n",
       "      <td>103.73121</td>\n",
       "      <td>42159.0</td>\n",
       "      <td>Opp Beauty World Stn</td>\n",
       "      <td>1.340368</td>\n",
       "      <td>103.775309</td>\n",
       "      <td>1990-01-01T05:00:00</td>\n",
       "      <td>LINESTRING (1.35726 103.73121, 1.34037 103.77531)</td>\n",
       "    </tr>\n",
       "    <tr>\n",
       "      <th>52078</th>\n",
       "      <td>2025-07</td>\n",
       "      <td>WEEKDAY</td>\n",
       "      <td>13</td>\n",
       "      <td>BUS</td>\n",
       "      <td>40401</td>\n",
       "      <td>43179</td>\n",
       "      <td>2</td>\n",
       "      <td>40401.0</td>\n",
       "      <td>Blk 224A</td>\n",
       "      <td>1.35726</td>\n",
       "      <td>103.73121</td>\n",
       "      <td>43179.0</td>\n",
       "      <td>Blk 231</td>\n",
       "      <td>1.348971</td>\n",
       "      <td>103.754303</td>\n",
       "      <td>1990-01-01T13:00:00</td>\n",
       "      <td>LINESTRING (1.35726 103.73121, 1.34897 103.7543)</td>\n",
       "    </tr>\n",
       "    <tr>\n",
       "      <th>...</th>\n",
       "      <td>...</td>\n",
       "      <td>...</td>\n",
       "      <td>...</td>\n",
       "      <td>...</td>\n",
       "      <td>...</td>\n",
       "      <td>...</td>\n",
       "      <td>...</td>\n",
       "      <td>...</td>\n",
       "      <td>...</td>\n",
       "      <td>...</td>\n",
       "      <td>...</td>\n",
       "      <td>...</td>\n",
       "      <td>...</td>\n",
       "      <td>...</td>\n",
       "      <td>...</td>\n",
       "      <td>...</td>\n",
       "      <td>...</td>\n",
       "    </tr>\n",
       "    <tr>\n",
       "      <th>5601669</th>\n",
       "      <td>2025-07</td>\n",
       "      <td>WEEKDAY</td>\n",
       "      <td>12</td>\n",
       "      <td>BUS</td>\n",
       "      <td>40401</td>\n",
       "      <td>40311</td>\n",
       "      <td>6</td>\n",
       "      <td>40401.0</td>\n",
       "      <td>Blk 224A</td>\n",
       "      <td>1.35726</td>\n",
       "      <td>103.73121</td>\n",
       "      <td>40311.0</td>\n",
       "      <td>Blk 439C</td>\n",
       "      <td>1.357305</td>\n",
       "      <td>103.738908</td>\n",
       "      <td>1990-01-01T12:00:00</td>\n",
       "      <td>LINESTRING (1.35726 103.73121, 1.3573 103.73891)</td>\n",
       "    </tr>\n",
       "    <tr>\n",
       "      <th>5639785</th>\n",
       "      <td>2025-07</td>\n",
       "      <td>WEEKDAY</td>\n",
       "      <td>16</td>\n",
       "      <td>BUS</td>\n",
       "      <td>40401</td>\n",
       "      <td>43409</td>\n",
       "      <td>34</td>\n",
       "      <td>40401.0</td>\n",
       "      <td>Blk 224A</td>\n",
       "      <td>1.35726</td>\n",
       "      <td>103.73121</td>\n",
       "      <td>43409.0</td>\n",
       "      <td>Opp Blk 127</td>\n",
       "      <td>1.352355</td>\n",
       "      <td>103.746236</td>\n",
       "      <td>1990-01-01T16:00:00</td>\n",
       "      <td>LINESTRING (1.35726 103.73121, 1.35236 103.74624)</td>\n",
       "    </tr>\n",
       "    <tr>\n",
       "      <th>5661547</th>\n",
       "      <td>2025-07</td>\n",
       "      <td>WEEKDAY</td>\n",
       "      <td>5</td>\n",
       "      <td>BUS</td>\n",
       "      <td>40401</td>\n",
       "      <td>43549</td>\n",
       "      <td>1</td>\n",
       "      <td>40401.0</td>\n",
       "      <td>Blk 224A</td>\n",
       "      <td>1.35726</td>\n",
       "      <td>103.73121</td>\n",
       "      <td>43549.0</td>\n",
       "      <td>Regent Hts</td>\n",
       "      <td>1.352775</td>\n",
       "      <td>103.755295</td>\n",
       "      <td>1990-01-01T05:00:00</td>\n",
       "      <td>LINESTRING (1.35726 103.73121, 1.35278 103.7553)</td>\n",
       "    </tr>\n",
       "    <tr>\n",
       "      <th>5683304</th>\n",
       "      <td>2025-07</td>\n",
       "      <td>WEEKDAY</td>\n",
       "      <td>20</td>\n",
       "      <td>BUS</td>\n",
       "      <td>40401</td>\n",
       "      <td>43751</td>\n",
       "      <td>61</td>\n",
       "      <td>40401.0</td>\n",
       "      <td>Blk 224A</td>\n",
       "      <td>1.35726</td>\n",
       "      <td>103.73121</td>\n",
       "      <td>43751.0</td>\n",
       "      <td>Opp Blk 443D</td>\n",
       "      <td>1.356298</td>\n",
       "      <td>103.736664</td>\n",
       "      <td>1990-01-01T20:00:00</td>\n",
       "      <td>LINESTRING (1.35726 103.73121, 1.3563 103.73666)</td>\n",
       "    </tr>\n",
       "    <tr>\n",
       "      <th>5714662</th>\n",
       "      <td>2025-07</td>\n",
       "      <td>WEEKDAY</td>\n",
       "      <td>14</td>\n",
       "      <td>BUS</td>\n",
       "      <td>40401</td>\n",
       "      <td>43189</td>\n",
       "      <td>2</td>\n",
       "      <td>40401.0</td>\n",
       "      <td>Blk 224A</td>\n",
       "      <td>1.35726</td>\n",
       "      <td>103.73121</td>\n",
       "      <td>43189.0</td>\n",
       "      <td>Blk 283</td>\n",
       "      <td>1.346993</td>\n",
       "      <td>103.756815</td>\n",
       "      <td>1990-01-01T14:00:00</td>\n",
       "      <td>LINESTRING (1.35726 103.73121, 1.34699 103.75682)</td>\n",
       "    </tr>\n",
       "  </tbody>\n",
       "</table>\n",
       "<p>395 rows × 17 columns</p>\n",
       "</div>"
      ],
      "text/plain": [
       "        YEAR_MONTH DAY_TYPE  TIME_PER_HOUR PT_TYPE ORIGIN_PT_CODE  \\\n",
       "2367       2025-07  WEEKDAY             10     BUS          40401   \n",
       "26954      2025-07  WEEKDAY              5     BUS          40401   \n",
       "34267      2025-07  WEEKDAY              6     BUS          40401   \n",
       "47737      2025-07  WEEKDAY              5     BUS          40401   \n",
       "52078      2025-07  WEEKDAY             13     BUS          40401   \n",
       "...            ...      ...            ...     ...            ...   \n",
       "5601669    2025-07  WEEKDAY             12     BUS          40401   \n",
       "5639785    2025-07  WEEKDAY             16     BUS          40401   \n",
       "5661547    2025-07  WEEKDAY              5     BUS          40401   \n",
       "5683304    2025-07  WEEKDAY             20     BUS          40401   \n",
       "5714662    2025-07  WEEKDAY             14     BUS          40401   \n",
       "\n",
       "        DESTINATION_PT_CODE  TOTAL_TRIPS  BusStopCode_x Description_x  \\\n",
       "2367                  43189           10        40401.0      Blk 224A   \n",
       "26954                 43009          476        40401.0      Blk 224A   \n",
       "34267                 43601          135        40401.0      Blk 224A   \n",
       "47737                 42159           60        40401.0      Blk 224A   \n",
       "52078                 43179            2        40401.0      Blk 224A   \n",
       "...                     ...          ...            ...           ...   \n",
       "5601669               40311            6        40401.0      Blk 224A   \n",
       "5639785               43409           34        40401.0      Blk 224A   \n",
       "5661547               43549            1        40401.0      Blk 224A   \n",
       "5683304               43751           61        40401.0      Blk 224A   \n",
       "5714662               43189            2        40401.0      Blk 224A   \n",
       "\n",
       "         Latitude_x  Longitude_x  BusStopCode_y         Description_y  \\\n",
       "2367        1.35726    103.73121        43189.0               Blk 283   \n",
       "26954       1.35726    103.73121        43009.0          Bt Batok Int   \n",
       "34267       1.35726    103.73121        43601.0           Opp Blk 532   \n",
       "47737       1.35726    103.73121        42159.0  Opp Beauty World Stn   \n",
       "52078       1.35726    103.73121        43179.0               Blk 231   \n",
       "...             ...          ...            ...                   ...   \n",
       "5601669     1.35726    103.73121        40311.0              Blk 439C   \n",
       "5639785     1.35726    103.73121        43409.0           Opp Blk 127   \n",
       "5661547     1.35726    103.73121        43549.0            Regent Hts   \n",
       "5683304     1.35726    103.73121        43751.0          Opp Blk 443D   \n",
       "5714662     1.35726    103.73121        43189.0               Blk 283   \n",
       "\n",
       "         Latitude_y  Longitude_y            Timestamp  \\\n",
       "2367       1.346993   103.756815  1990-01-01T10:00:00   \n",
       "26954      1.349994   103.751062  1990-01-01T05:00:00   \n",
       "34267      1.356643   103.749505  1990-01-01T06:00:00   \n",
       "47737      1.340368   103.775309  1990-01-01T05:00:00   \n",
       "52078      1.348971   103.754303  1990-01-01T13:00:00   \n",
       "...             ...          ...                  ...   \n",
       "5601669    1.357305   103.738908  1990-01-01T12:00:00   \n",
       "5639785    1.352355   103.746236  1990-01-01T16:00:00   \n",
       "5661547    1.352775   103.755295  1990-01-01T05:00:00   \n",
       "5683304    1.356298   103.736664  1990-01-01T20:00:00   \n",
       "5714662    1.346993   103.756815  1990-01-01T14:00:00   \n",
       "\n",
       "                                                  geometry  \n",
       "2367     LINESTRING (1.35726 103.73121, 1.34699 103.75682)  \n",
       "26954    LINESTRING (1.35726 103.73121, 1.34999 103.75106)  \n",
       "34267    LINESTRING (1.35726 103.73121, 1.35664 103.74951)  \n",
       "47737    LINESTRING (1.35726 103.73121, 1.34037 103.77531)  \n",
       "52078     LINESTRING (1.35726 103.73121, 1.34897 103.7543)  \n",
       "...                                                    ...  \n",
       "5601669   LINESTRING (1.35726 103.73121, 1.3573 103.73891)  \n",
       "5639785  LINESTRING (1.35726 103.73121, 1.35236 103.74624)  \n",
       "5661547   LINESTRING (1.35726 103.73121, 1.35278 103.7553)  \n",
       "5683304   LINESTRING (1.35726 103.73121, 1.3563 103.73666)  \n",
       "5714662  LINESTRING (1.35726 103.73121, 1.34699 103.75682)  \n",
       "\n",
       "[395 rows x 17 columns]"
      ]
     },
     "execution_count": 27,
     "metadata": {},
     "output_type": "execute_result"
    }
   ],
   "source": []
  }
 ],
 "metadata": {
  "kernelspec": {
   "display_name": "scottish_fold",
   "language": "python",
   "name": "python3"
  },
  "language_info": {
   "codemirror_mode": {
    "name": "ipython",
    "version": 3
   },
   "file_extension": ".py",
   "mimetype": "text/x-python",
   "name": "python",
   "nbconvert_exporter": "python",
   "pygments_lexer": "ipython3",
   "version": "3.10.18"
  }
 },
 "nbformat": 4,
 "nbformat_minor": 2
}

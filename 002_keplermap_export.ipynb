{
 "cells": [
  {
   "cell_type": "code",
   "execution_count": 2,
   "id": "6a4de9ed",
   "metadata": {},
   "outputs": [
    {
     "name": "stderr",
     "output_type": "stream",
     "text": [
      "c:\\Users\\renji\\anaconda3\\envs\\scottish_fold\\lib\\site-packages\\keplergl\\keplergl.py:13: UserWarning: pkg_resources is deprecated as an API. See https://setuptools.pypa.io/en/latest/pkg_resources.html. The pkg_resources package is slated for removal as early as 2025-11-30. Refrain from using this package or pin to Setuptools<81.\n",
      "  from pkg_resources import resource_string\n"
     ]
    }
   ],
   "source": [
    "import pandas as pd\n",
    "import geopandas as gpd\n",
    "import json\n",
    "from shapely.geometry import Point\n",
    "from keplergl import KeplerGl\n",
    "import plotly.express as px"
   ]
  },
  {
   "cell_type": "code",
   "execution_count": null,
   "id": "ee0c2d55",
   "metadata": {},
   "outputs": [],
   "source": [
    "gdf = gpd.read_file(\"gen_data/hdb_resi_with_best_routes.gpkg\")\n",
    "test = gpd.read_file(\"gen_data/test.shp\")"
   ]
  },
  {
   "cell_type": "code",
   "execution_count": 7,
   "id": "d31f503e",
   "metadata": {},
   "outputs": [
    {
     "name": "stdout",
     "output_type": "stream",
     "text": [
      "User Guide: https://docs.kepler.gl/docs/keplergl-jupyter\n"
     ]
    },
    {
     "name": "stderr",
     "output_type": "stream",
     "text": [
      "c:\\Users\\renji\\anaconda3\\envs\\scottish_fold\\lib\\site-packages\\jupyter_client\\session.py:721: UserWarning: Message serialization failed with:\n",
      "Out of range float values are not JSON compliant\n",
      "Supporting this message is deprecated in jupyter-client 7, please make sure your message is JSON-compliant\n",
      "  content = self.pack(content)\n",
      "c:\\Users\\renji\\anaconda3\\envs\\scottish_fold\\lib\\site-packages\\jupyter_client\\session.py:721: UserWarning: Message serialization failed with:\n",
      "Out of range float values are not JSON compliant\n",
      "Supporting this message is deprecated in jupyter-client 7, please make sure your message is JSON-compliant\n",
      "  content = self.pack(content)\n"
     ]
    },
    {
     "name": "stdout",
     "output_type": "stream",
     "text": [
      "Map saved to heatmap.html!\n",
      "✔ Map saved to heatmap.html with full-width layout\n"
     ]
    }
   ],
   "source": [
    "map_1 = KeplerGl()\n",
    "\n",
    "# Add dataframe as a dataset\n",
    "map_1.add_data(data=gdf, name=\"heatmap\")\n",
    "map_1.add_data(data=test, name=\"market\")\n",
    "\n",
    "def save_fullwidth_html(map_obj, file_name=\"map.html\", height=\"100vh\"):\n",
    "    \"\"\"\n",
    "    Save a KeplerGl map with width=100% and full viewport height by default.\n",
    "    \"\"\"\n",
    "    # First save normally\n",
    "    map_obj.save_to_html(file_name=file_name)\n",
    "\n",
    "    # Now patch inline style in HTML\n",
    "    with open(file_name, \"r\", encoding=\"utf-8\") as f:\n",
    "        html = f.read()\n",
    "\n",
    "    # Replace the container div inline style\n",
    "    html = html.replace(\n",
    "        'style=\"width: 1000px; height: 500px;\"',\n",
    "        f'style=\"width: 100%; height: {height};\"'\n",
    "    )\n",
    "\n",
    "    with open(file_name, \"w\", encoding=\"utf-8\") as f:\n",
    "        f.write(html)\n",
    "\n",
    "    print(f\"✔ Map saved to {file_name} with full-width layout\")\n",
    "\n",
    "save_fullwidth_html(map_1, \"heatmap.html\", height=\"100vh\")"
   ]
  }
 ],
 "metadata": {
  "kernelspec": {
   "display_name": "scottish_fold",
   "language": "python",
   "name": "python3"
  },
  "language_info": {
   "codemirror_mode": {
    "name": "ipython",
    "version": 3
   },
   "file_extension": ".py",
   "mimetype": "text/x-python",
   "name": "python",
   "nbconvert_exporter": "python",
   "pygments_lexer": "ipython3",
   "version": "3.10.18"
  }
 },
 "nbformat": 4,
 "nbformat_minor": 5
}
